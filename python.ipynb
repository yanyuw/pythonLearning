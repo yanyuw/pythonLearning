{
 "cells": [
  {
   "cell_type": "code",
   "execution_count": 4,
   "metadata": {},
   "outputs": [
    {
     "name": "stdout",
     "output_type": "stream",
     "text": [
      "helloworld\n"
     ]
    }
   ],
   "source": [
    "print('helloworld');\n",
    "\n"
   ]
  },
  {
   "cell_type": "code",
   "execution_count": 5,
   "metadata": {},
   "outputs": [
    {
     "name": "stdout",
     "output_type": "stream",
     "text": [
      "2 + 3 = 5\n"
     ]
    }
   ],
   "source": [
    "print(f'2 + 3 = {2+3}')"
   ]
  },
  {
   "cell_type": "code",
   "execution_count": 7,
   "metadata": {},
   "outputs": [
    {
     "name": "stdout",
     "output_type": "stream",
     "text": [
      "what's your name?yanyuw\n",
      "hello,yanyuw!\n"
     ]
    }
   ],
   "source": [
    "name = input(\"what's your name?\")\n",
    "print(f'hello,{name}!')"
   ]
  },
  {
   "cell_type": "code",
   "execution_count": 8,
   "metadata": {},
   "outputs": [
    {
     "name": "stdout",
     "output_type": "stream",
     "text": [
      "please input a num:4\n",
      "square of a is 16.0\n"
     ]
    }
   ],
   "source": [
    "a = float(input('please input a num:')) #注意input输入的是字符串，不能直接进行计算\n",
    "print(f'square of a is {a*a}')"
   ]
  },
  {
   "cell_type": "code",
   "execution_count": 9,
   "metadata": {},
   "outputs": [
    {
     "data": {
      "text/plain": [
       "10715086071862673209484250490600018105614048117055336074437503883703510511249361224931983788156958581275946729175531468251871452856923140435984577574698574803934567774824230985421074605062371141877954182153046474983581941267398767559165543946077062914571196477686542167660429831652624386837205668069376"
      ]
     },
     "execution_count": 9,
     "metadata": {},
     "output_type": "execute_result"
    }
   ],
   "source": [
    "2**1000 #整数没有限制？2^1000 **表示求幂"
   ]
  },
  {
   "cell_type": "code",
   "execution_count": 11,
   "metadata": {},
   "outputs": [
    {
     "name": "stdout",
     "output_type": "stream",
     "text": [
      "please input a num:3\n",
      "please input another num:5\n",
      "3.0 + 5.0 = 8.0\n"
     ]
    }
   ],
   "source": [
    "a = float(input('please input a num:'))\n",
    "b = float(input('please input another num:'))\n",
    "\n",
    "print(f'{a} + {b} = {a+b}')"
   ]
  },
  {
   "cell_type": "code",
   "execution_count": 13,
   "metadata": {},
   "outputs": [
    {
     "data": {
      "text/plain": [
       "0"
      ]
     },
     "execution_count": 13,
     "metadata": {},
     "output_type": "execute_result"
    }
   ],
   "source": [
    "2 / 3 #除\n",
    "2 // 3 #整除"
   ]
  },
  {
   "cell_type": "code",
   "execution_count": 14,
   "metadata": {},
   "outputs": [
    {
     "data": {
      "text/plain": [
       "2"
      ]
     },
     "execution_count": 14,
     "metadata": {},
     "output_type": "execute_result"
    }
   ],
   "source": [
    "-4 % 3 #？"
   ]
  },
  {
   "cell_type": "code",
   "execution_count": 15,
   "metadata": {},
   "outputs": [
    {
     "data": {
      "text/plain": [
       "2"
      ]
     },
     "execution_count": 15,
     "metadata": {},
     "output_type": "execute_result"
    }
   ],
   "source": [
    "0b10 #0b二进制"
   ]
  },
  {
   "cell_type": "code",
   "execution_count": 19,
   "metadata": {},
   "outputs": [
    {
     "data": {
      "text/plain": [
       "1"
      ]
     },
     "execution_count": 19,
     "metadata": {},
     "output_type": "execute_result"
    }
   ],
   "source": [
    "abs(-10) #绝对值\n",
    "pow(2, 3.5) # 2^3.5\n",
    "round(0.5) # 0\n",
    "\n",
    "round(0.6) # 1"
   ]
  },
  {
   "cell_type": "code",
   "execution_count": 20,
   "metadata": {},
   "outputs": [
    {
     "ename": "SyntaxError",
     "evalue": "invalid syntax (<ipython-input-20-ef298f8849d6>, line 1)",
     "output_type": "error",
     "traceback": [
      "\u001b[1;36m  File \u001b[1;32m\"<ipython-input-20-ef298f8849d6>\"\u001b[1;36m, line \u001b[1;32m1\u001b[0m\n\u001b[1;33m    import 'math'\u001b[0m\n\u001b[1;37m                ^\u001b[0m\n\u001b[1;31mSyntaxError\u001b[0m\u001b[1;31m:\u001b[0m invalid syntax\n"
     ]
    }
   ],
   "source": [
    "import math\n",
    "math.floor(32.9) #32\n",
    "math.ceil(3.2)#3\n",
    "math.sqrt(4) #开平方\n",
    "math.sqrt(-1) #会报错"
   ]
  },
  {
   "cell_type": "code",
   "execution_count": 21,
   "metadata": {},
   "outputs": [
    {
     "data": {
      "text/plain": [
       "1j"
      ]
     },
     "execution_count": 21,
     "metadata": {},
     "output_type": "execute_result"
    }
   ],
   "source": [
    "import cmath #负数的数学函数*\n",
    "cmath.sqrt(-1)"
   ]
  },
  {
   "cell_type": "code",
   "execution_count": 22,
   "metadata": {},
   "outputs": [
    {
     "data": {
      "text/plain": [
       "complex"
      ]
     },
     "execution_count": 22,
     "metadata": {},
     "output_type": "execute_result"
    }
   ],
   "source": [
    "type(1j)"
   ]
  },
  {
   "cell_type": "code",
   "execution_count": 25,
   "metadata": {},
   "outputs": [
    {
     "data": {
      "text/plain": [
       "(10+0j)"
      ]
     },
     "execution_count": 25,
     "metadata": {},
     "output_type": "execute_result"
    }
   ],
   "source": [
    "a = (1+3j)*(1-3j)\n",
    "a"
   ]
  },
  {
   "cell_type": "code",
   "execution_count": 27,
   "metadata": {},
   "outputs": [
    {
     "name": "stdout",
     "output_type": "stream",
     "text": [
      "1 2 3 4 5 6 7 8 9 "
     ]
    }
   ],
   "source": [
    "x = 1\n",
    "while x<10:\n",
    "    print(x, end = ' ') #end符号设置成空格（默认是换行符）\n",
    "    x = x + 1"
   ]
  },
  {
   "cell_type": "code",
   "execution_count": 34,
   "metadata": {},
   "outputs": [],
   "source": [
    "import turtle #海龟绘图，引导孩子学习编程 来自logo语言\n",
    "\n",
    "turtle.hideturtle() #使海龟不可见。可以加快绘制速度 好像有bug\n",
    "\n",
    "turtle.speed(0.01) #速度\n",
    "turtle.bgcolor('black') #背景颜色\n",
    "turtle.color(1.0, 1.0, 1.0) #rgb 白色\n",
    "\n",
    "x = 0\n",
    "# while x<4:\n",
    "#     turtle.forward(100)\n",
    "#     turtle.right(90)\n",
    "#     x+=1\n",
    "\n",
    "while x < 300:\n",
    "    turtle.forward(x)\n",
    "    turtle.right(89)\n",
    "    x += 2\n",
    "\n",
    "turtle.exitonclick() #*当点击时退出"
   ]
  },
  {
   "cell_type": "code",
   "execution_count": 35,
   "metadata": {},
   "outputs": [
    {
     "data": {
      "text/plain": [
       "'h'"
      ]
     },
     "execution_count": 35,
     "metadata": {},
     "output_type": "execute_result"
    }
   ],
   "source": [
    "s = 'hello'\n",
    "type(s) #str\n",
    "s[0] #'h'"
   ]
  },
  {
   "cell_type": "code",
   "execution_count": 36,
   "metadata": {},
   "outputs": [
    {
     "ename": "TypeError",
     "evalue": "'str' object does not support item assignment",
     "output_type": "error",
     "traceback": [
      "\u001b[1;31m---------------------------------------------------------------------------\u001b[0m",
      "\u001b[1;31mTypeError\u001b[0m                                 Traceback (most recent call last)",
      "\u001b[1;32m<ipython-input-36-2c208e5b156a>\u001b[0m in \u001b[0;36m<module>\u001b[1;34m\u001b[0m\n\u001b[0;32m      1\u001b[0m \u001b[1;31m#immutable 不可改变\u001b[0m\u001b[1;33m\u001b[0m\u001b[1;33m\u001b[0m\u001b[1;33m\u001b[0m\u001b[0m\n\u001b[1;32m----> 2\u001b[1;33m \u001b[0ms\u001b[0m\u001b[1;33m[\u001b[0m\u001b[1;36m0\u001b[0m\u001b[1;33m]\u001b[0m \u001b[1;33m=\u001b[0m \u001b[1;34m'h'\u001b[0m\u001b[1;33m\u001b[0m\u001b[1;33m\u001b[0m\u001b[0m\n\u001b[0m",
      "\u001b[1;31mTypeError\u001b[0m: 'str' object does not support item assignment"
     ]
    }
   ],
   "source": [
    "#immutable 不可改变\n",
    "s[0] = '' #报错 不可改变 只能通过s='Hello'进行改变 \n",
    "# 相当于重新在新的东西上贴s标签\n",
    "# 垃圾回收机制 会把hello扔了\n"
   ]
  },
  {
   "cell_type": "code",
   "execution_count": 37,
   "metadata": {},
   "outputs": [
    {
     "data": {
      "text/plain": [
       "'HELLO'"
      ]
     },
     "execution_count": 37,
     "metadata": {},
     "output_type": "execute_result"
    }
   ],
   "source": [
    "s='Hello'\n",
    "s.upper()#只是返回，没有改变s本身"
   ]
  },
  {
   "cell_type": "code",
   "execution_count": 38,
   "metadata": {},
   "outputs": [
    {
     "data": {
      "text/plain": [
       "'Hello'"
      ]
     },
     "execution_count": 38,
     "metadata": {},
     "output_type": "execute_result"
    }
   ],
   "source": [
    "s"
   ]
  },
  {
   "cell_type": "code",
   "execution_count": 41,
   "metadata": {},
   "outputs": [
    {
     "data": {
      "text/plain": [
       "'hello\\nworld!\\nyanyuw\\n'"
      ]
     },
     "execution_count": 41,
     "metadata": {},
     "output_type": "execute_result"
    }
   ],
   "source": [
    "long_string = '''hello\n",
    "world!\n",
    "yanyuw\n",
    "'''\n",
    "long_string"
   ]
  },
  {
   "cell_type": "code",
   "execution_count": 43,
   "metadata": {},
   "outputs": [
    {
     "name": "stdout",
     "output_type": "stream",
     "text": [
      "hello\n",
      "world!\n",
      "yanyuw\n",
      "\n"
     ]
    }
   ],
   "source": [
    "print(long_string)"
   ]
  },
  {
   "cell_type": "code",
   "execution_count": 44,
   "metadata": {},
   "outputs": [
    {
     "name": "stdout",
     "output_type": "stream",
     "text": [
      "'hello\\nworld!\\nyanyuw\\n'\n"
     ]
    }
   ],
   "source": [
    "print(repr(long_string)) #返回在计算机里的表示字符串"
   ]
  },
  {
   "cell_type": "code",
   "execution_count": 45,
   "metadata": {},
   "outputs": [
    {
     "data": {
      "text/plain": [
       "9"
      ]
     },
     "execution_count": 45,
     "metadata": {},
     "output_type": "execute_result"
    }
   ],
   "source": [
    "1 + 2 + 3\n",
    "+ 4 + 5"
   ]
  },
  {
   "cell_type": "code",
   "execution_count": 46,
   "metadata": {},
   "outputs": [
    {
     "data": {
      "text/plain": [
       "15"
      ]
     },
     "execution_count": 46,
     "metadata": {},
     "output_type": "execute_result"
    }
   ],
   "source": [
    "#斜杠可以换行\n",
    "1 + 2 + 3 \\\n",
    "+ 4 + 5"
   ]
  },
  {
   "cell_type": "code",
   "execution_count": 48,
   "metadata": {},
   "outputs": [
    {
     "name": "stdout",
     "output_type": "stream",
     "text": [
      "15\n"
     ]
    },
    {
     "data": {
      "text/plain": [
       "15"
      ]
     },
     "execution_count": 48,
     "metadata": {},
     "output_type": "execute_result"
    }
   ],
   "source": [
    "#或者在print里\n",
    "print(1+ 2 + 3\n",
    "+4+5)\n",
    "\n",
    "#或者在括号里，就自动续行\n",
    "(1+ 2 + 3\n",
    "+4+5)\n"
   ]
  },
  {
   "cell_type": "code",
   "execution_count": 49,
   "metadata": {
    "scrolled": true
   },
   "outputs": [
    {
     "data": {
      "text/plain": [
       "'d:\\\\data\\\\test\\\\file.txt'"
      ]
     },
     "execution_count": 49,
     "metadata": {},
     "output_type": "execute_result"
    }
   ],
   "source": [
    "#原生字符串 raw\n",
    "'d:\\data\\test\\file.txt'\n",
    "#在c里 'd:\\\\data\\\\test\\\\file.txt'\n",
    "\n",
    "r'd:\\data\\test\\file.txt' #raw 不要转义 显示里在计算机里的表达"
   ]
  },
  {
   "cell_type": "code",
   "execution_count": 51,
   "metadata": {},
   "outputs": [
    {
     "data": {
      "text/plain": [
       "bytearray(b'hello')"
      ]
     },
     "execution_count": 51,
     "metadata": {},
     "output_type": "execute_result"
    }
   ],
   "source": [
    "x = bytearray(b'hello')\n",
    "x\n",
    "#由五个字节组成的数组 区别在于是可变的"
   ]
  },
  {
   "cell_type": "code",
   "execution_count": 53,
   "metadata": {},
   "outputs": [
    {
     "data": {
      "text/plain": [
       "bytearray(b'Hello')"
      ]
     },
     "execution_count": 53,
     "metadata": {},
     "output_type": "execute_result"
    }
   ],
   "source": [
    "x[0] = ord('H') #?返回对应的 ASCII 数值\n",
    "x"
   ]
  },
  {
   "cell_type": "code",
   "execution_count": 54,
   "metadata": {},
   "outputs": [
    {
     "data": {
      "text/plain": [
       "72"
      ]
     },
     "execution_count": 54,
     "metadata": {},
     "output_type": "execute_result"
    }
   ],
   "source": [
    "ord('H')"
   ]
  },
  {
   "cell_type": "code",
   "execution_count": 56,
   "metadata": {},
   "outputs": [
    {
     "data": {
      "text/plain": [
       "b'hello'"
      ]
     },
     "execution_count": 56,
     "metadata": {},
     "output_type": "execute_result"
    }
   ],
   "source": [
    "'hello'.encode('ASCII') #用ascii编码"
   ]
  },
  {
   "cell_type": "code",
   "execution_count": 58,
   "metadata": {},
   "outputs": [
    {
     "ename": "UnicodeEncodeError",
     "evalue": "'ascii' codec can't encode characters in position 0-1: ordinal not in range(128)",
     "output_type": "error",
     "traceback": [
      "\u001b[1;31m---------------------------------------------------------------------------\u001b[0m",
      "\u001b[1;31mUnicodeEncodeError\u001b[0m                        Traceback (most recent call last)",
      "\u001b[1;32m<ipython-input-58-d6cd8a1762a0>\u001b[0m in \u001b[0;36m<module>\u001b[1;34m\u001b[0m\n\u001b[1;32m----> 1\u001b[1;33m \u001b[1;34m'你好'\u001b[0m\u001b[1;33m.\u001b[0m\u001b[0mencode\u001b[0m\u001b[1;33m(\u001b[0m\u001b[1;34m'ASCII'\u001b[0m\u001b[1;33m)\u001b[0m \u001b[1;31m#报错\u001b[0m\u001b[1;33m\u001b[0m\u001b[1;33m\u001b[0m\u001b[0m\n\u001b[0m",
      "\u001b[1;31mUnicodeEncodeError\u001b[0m: 'ascii' codec can't encode characters in position 0-1: ordinal not in range(128)"
     ]
    }
   ],
   "source": [
    "'你好'.encode('ASCII') #报错"
   ]
  },
  {
   "cell_type": "code",
   "execution_count": 59,
   "metadata": {},
   "outputs": [
    {
     "data": {
      "text/plain": [
       "b'\\xc4\\xe3\\xba\\xc3'"
      ]
     },
     "execution_count": 59,
     "metadata": {},
     "output_type": "execute_result"
    }
   ],
   "source": [
    "'你好'.encode('MBCS') # multi-byte character set \n",
    "# \\x表示16进制\n",
    "# unicode没有规定多少个字节 utf-8 utf-16 unicode不同的编码方式\n",
    "# "
   ]
  },
  {
   "cell_type": "code",
   "execution_count": 61,
   "metadata": {},
   "outputs": [
    {
     "data": {
      "text/plain": [
       "b'\\xe4\\xbd\\xa0\\xe5\\xa5\\xbd'"
      ]
     },
     "execution_count": 61,
     "metadata": {},
     "output_type": "execute_result"
    }
   ],
   "source": [
    "'你好'.encode('UTF-8')  # 6字节"
   ]
  },
  {
   "cell_type": "code",
   "execution_count": 63,
   "metadata": {},
   "outputs": [
    {
     "data": {
      "text/plain": [
       "b'\\xff\\xfe`O}Y'"
      ]
     },
     "execution_count": 63,
     "metadata": {},
     "output_type": "execute_result"
    }
   ],
   "source": [
    "'你好'.encode('UTF-16') #？6"
   ]
  },
  {
   "cell_type": "code",
   "execution_count": 72,
   "metadata": {},
   "outputs": [
    {
     "data": {
      "text/plain": [
       "0"
      ]
     },
     "execution_count": 72,
     "metadata": {},
     "output_type": "execute_result"
    }
   ],
   "source": [
    "# list\n",
    "my_list = [0, 1, 2, 3, 4, 5]\n",
    "my_list[0]"
   ]
  },
  {
   "cell_type": "code",
   "execution_count": 73,
   "metadata": {},
   "outputs": [
    {
     "data": {
      "text/plain": [
       "[0, 100, 2, 3, 4, 5]"
      ]
     },
     "execution_count": 73,
     "metadata": {},
     "output_type": "execute_result"
    }
   ],
   "source": [
    "my_list[1] = 100\n",
    "my_list"
   ]
  },
  {
   "cell_type": "code",
   "execution_count": 74,
   "metadata": {},
   "outputs": [
    {
     "data": {
      "text/plain": [
       "[0, 2, 4]"
      ]
     },
     "execution_count": 74,
     "metadata": {},
     "output_type": "execute_result"
    }
   ],
   "source": [
    "my_list[-1]\n",
    "my_list[0::2]#步长"
   ]
  },
  {
   "cell_type": "code",
   "execution_count": 76,
   "metadata": {},
   "outputs": [
    {
     "data": {
      "text/plain": [
       "[5, 4, 3, 2, 100, 0]"
      ]
     },
     "execution_count": 76,
     "metadata": {},
     "output_type": "execute_result"
    }
   ],
   "source": [
    "my_list[-1::-1] #数组倒置"
   ]
  },
  {
   "cell_type": "code",
   "execution_count": 79,
   "metadata": {},
   "outputs": [
    {
     "data": {
      "text/plain": [
       "[-1, 100, 2, 3, 4, 5]"
      ]
     },
     "execution_count": 79,
     "metadata": {},
     "output_type": "execute_result"
    }
   ],
   "source": [
    "a = my_list\n",
    "a[0] = -1 #my_list也会发生改变\n",
    "my_list"
   ]
  },
  {
   "cell_type": "code",
   "execution_count": 80,
   "metadata": {},
   "outputs": [
    {
     "data": {
      "text/plain": [
       "[1, 2, 1, 2, 1, 2]"
      ]
     },
     "execution_count": 80,
     "metadata": {},
     "output_type": "execute_result"
    }
   ],
   "source": [
    "[1,2]*3"
   ]
  },
  {
   "cell_type": "code",
   "execution_count": 93,
   "metadata": {},
   "outputs": [
    {
     "data": {
      "text/plain": [
       "[1, 2, 3, 4, 5, 6, 7, 8, 9, 10]"
      ]
     },
     "execution_count": 93,
     "metadata": {},
     "output_type": "execute_result"
    }
   ],
   "source": [
    "# a = []\n",
    "b = list() #构造函数\n",
    "x=1\n",
    "while x<=10:\n",
    "    b.append(x)\n",
    "    x+=1\n",
    "    \n",
    "b"
   ]
  },
  {
   "cell_type": "code",
   "execution_count": 92,
   "metadata": {},
   "outputs": [
    {
     "data": {
      "text/plain": [
       "['h', 'e', 'l', 'l', 'o']"
      ]
     },
     "execution_count": 92,
     "metadata": {},
     "output_type": "execute_result"
    }
   ],
   "source": [
    "h = list('hello')\n",
    "h"
   ]
  },
  {
   "cell_type": "code",
   "execution_count": 95,
   "metadata": {},
   "outputs": [
    {
     "data": {
      "text/plain": [
       "'h*e*l*l*o'"
      ]
     },
     "execution_count": 95,
     "metadata": {},
     "output_type": "execute_result"
    }
   ],
   "source": [
    "('*').join(h)"
   ]
  },
  {
   "cell_type": "code",
   "execution_count": 97,
   "metadata": {},
   "outputs": [
    {
     "data": {
      "text/plain": [
       "[1, 2, 3, 4, 5, 6, 7, 8, 9, 10]"
      ]
     },
     "execution_count": 97,
     "metadata": {},
     "output_type": "execute_result"
    }
   ],
   "source": [
    "a = list(range(1, 11))\n",
    "a"
   ]
  },
  {
   "cell_type": "code",
   "execution_count": 101,
   "metadata": {},
   "outputs": [
    {
     "name": "stdout",
     "output_type": "stream",
     "text": [
      "\n",
      "\n",
      "*\n",
      "\n",
      "***\n",
      "\n",
      "*****\n",
      "\n",
      "*******\n",
      "\n",
      "*********\n",
      "\n",
      "***********\n",
      "\n",
      "*************\n",
      "\n",
      "***************\n",
      "\n",
      "*****************\n",
      "\n"
     ]
    }
   ],
   "source": [
    "for i in range(0, 10):\n",
    "    for j in range(0, 2*i-1):\n",
    "        print('*', end='')"
   ]
  },
  {
   "cell_type": "code",
   "execution_count": 104,
   "metadata": {},
   "outputs": [
    {
     "name": "stdout",
     "output_type": "stream",
     "text": [
      "         *\n",
      "        ***\n",
      "       *****\n",
      "      *******\n",
      "     *********\n",
      "    ***********\n",
      "   *************\n",
      "  ***************\n",
      " *****************\n",
      "*******************\n"
     ]
    }
   ],
   "source": [
    "for i in range(0, 10):\n",
    "    print(' ' * (9-i) + '*' * (2*i+1))"
   ]
  },
  {
   "cell_type": "code",
   "execution_count": 108,
   "metadata": {},
   "outputs": [
    {
     "name": "stdout",
     "output_type": "stream",
     "text": [
      "                   \n",
      "         *         \n",
      "        ***        \n",
      "       *****       \n",
      "      *******      \n",
      "     *********     \n",
      "    ***********    \n",
      "   *************   \n",
      "  ***************  \n",
      " ***************** \n"
     ]
    }
   ],
   "source": [
    "for i in range(0, 10):\n",
    "    print(('*' * (2*i-1)).center(19))"
   ]
  },
  {
   "cell_type": "code",
   "execution_count": 8,
   "metadata": {},
   "outputs": [
    {
     "name": "stdout",
     "output_type": "stream",
     "text": [
      "1*1=1\t1*2=2\t1*3=3\t1*4=4\t1*5=5\t1*6=6\t1*7=7\t1*8=8\t1*9=9\t\n",
      "\t2*2=4\t2*3=6\t2*4=8\t2*5=10\t2*6=12\t2*7=14\t2*8=16\t2*9=18\t\n",
      "\t\t3*3=9\t3*4=12\t3*5=15\t3*6=18\t3*7=21\t3*8=24\t3*9=27\t\n",
      "\t\t\t4*4=16\t4*5=20\t4*6=24\t4*7=28\t4*8=32\t4*9=36\t\n",
      "\t\t\t\t5*5=25\t5*6=30\t5*7=35\t5*8=40\t5*9=45\t\n",
      "\t\t\t\t\t6*6=36\t6*7=42\t6*8=48\t6*9=54\t\n",
      "\t\t\t\t\t\t7*7=49\t7*8=56\t7*9=63\t\n",
      "\t\t\t\t\t\t\t8*8=64\t8*9=72\t\n",
      "\t\t\t\t\t\t\t\t9*9=81\t\n"
     ]
    }
   ],
   "source": [
    "for x in range(1, 10):\n",
    "    for y in range(1, 10):\n",
    "        if x <= y:\n",
    "            print(f'{x}*{y}={x*y}',end='\\t')\n",
    "        else:\n",
    "            print('\\t', end='')\n",
    "    print('')"
   ]
  },
  {
   "cell_type": "markdown",
   "metadata": {},
   "source": [
    "# markdown\n",
    "## how o"
   ]
  },
  {
   "cell_type": "code",
   "execution_count": 14,
   "metadata": {},
   "outputs": [
    {
     "data": {
      "text/plain": [
       "4"
      ]
     },
     "execution_count": 14,
     "metadata": {},
     "output_type": "execute_result"
    }
   ],
   "source": [
    "a = [3,4,5,9,5]\n",
    "i = a.index(5, 3)\n",
    "i"
   ]
  },
  {
   "cell_type": "code",
   "execution_count": 11,
   "metadata": {},
   "outputs": [
    {
     "ename": "ValueError",
     "evalue": "8 is not in list",
     "output_type": "error",
     "traceback": [
      "\u001b[1;31m---------------------------------------------------------------------------\u001b[0m",
      "\u001b[1;31mValueError\u001b[0m                                Traceback (most recent call last)",
      "\u001b[1;32m<ipython-input-11-6cc8b7588a6c>\u001b[0m in \u001b[0;36m<module>\u001b[1;34m\u001b[0m\n\u001b[1;32m----> 1\u001b[1;33m \u001b[0mi\u001b[0m \u001b[1;33m=\u001b[0m \u001b[0ma\u001b[0m\u001b[1;33m.\u001b[0m\u001b[0mindex\u001b[0m\u001b[1;33m(\u001b[0m\u001b[1;36m8\u001b[0m\u001b[1;33m)\u001b[0m\u001b[1;33m\u001b[0m\u001b[1;33m\u001b[0m\u001b[0m\n\u001b[0m",
      "\u001b[1;31mValueError\u001b[0m: 8 is not in list"
     ]
    }
   ],
   "source": [
    "i = a.index(8)"
   ]
  },
  {
   "cell_type": "code",
   "execution_count": 15,
   "metadata": {},
   "outputs": [
    {
     "name": "stdout",
     "output_type": "stream",
     "text": [
      "[100, 3, 4, 5, 9, 5]\n"
     ]
    },
    {
     "data": {
      "text/plain": [
       "[3, 4, 5, 9, 5]"
      ]
     },
     "execution_count": 15,
     "metadata": {},
     "output_type": "execute_result"
    }
   ],
   "source": [
    "a.insert(0, 100)\n",
    "print(a)\n",
    "a.remove(100)\n",
    "a"
   ]
  },
  {
   "cell_type": "code",
   "execution_count": 16,
   "metadata": {},
   "outputs": [
    {
     "data": {
      "text/plain": [
       "[3, 4, 9, 5]"
      ]
     },
     "execution_count": 16,
     "metadata": {},
     "output_type": "execute_result"
    }
   ],
   "source": [
    "a.remove(5)\n",
    "a #只会删掉第一个，要全部删掉要写循环"
   ]
  },
  {
   "cell_type": "code",
   "execution_count": 18,
   "metadata": {},
   "outputs": [
    {
     "data": {
      "text/plain": [
       "[3, 4]"
      ]
     },
     "execution_count": 18,
     "metadata": {},
     "output_type": "execute_result"
    }
   ],
   "source": [
    "#stack\n",
    "s = []\n",
    "s.append(3)\n",
    "s.append(4)\n",
    "s"
   ]
  },
  {
   "cell_type": "code",
   "execution_count": 19,
   "metadata": {},
   "outputs": [
    {
     "data": {
      "text/plain": [
       "4"
      ]
     },
     "execution_count": 19,
     "metadata": {},
     "output_type": "execute_result"
    }
   ],
   "source": [
    "s.pop()"
   ]
  },
  {
   "cell_type": "code",
   "execution_count": 20,
   "metadata": {},
   "outputs": [
    {
     "data": {
      "text/plain": [
       "[3]"
      ]
     },
     "execution_count": 20,
     "metadata": {},
     "output_type": "execute_result"
    }
   ],
   "source": [
    "s"
   ]
  },
  {
   "cell_type": "code",
   "execution_count": 21,
   "metadata": {},
   "outputs": [
    {
     "name": "stdout",
     "output_type": "stream",
     "text": [
      "Pls input an expression:[(){}]\n",
      "Match\n"
     ]
    }
   ],
   "source": [
    "expression = input('Pls input an expression:')\n",
    "my_stack = list()\n",
    "\n",
    "left_quotes = ['{', '[', '(']\n",
    "right_quotes = ['}', ']', ')']\n",
    "\n",
    "for ch in expression:\n",
    "    if ch in left_quotes:\n",
    "        my_stack.append(ch)\n",
    "    elif ch in right_quotes:\n",
    "        #check stack\n",
    "        if my_stack == []: #为空\n",
    "            print('Not match')\n",
    "            break;\n",
    "        else:\n",
    "            left_ch = my_stack.pop()\n",
    "            #用索引一致来判断是否匹配\n",
    "            if left_quotes.index(left_ch) != right_quotes.index(ch):\n",
    "                print('Not match')\n",
    "                break #已经出错了直接跳出\n",
    "if my_stack != []:\n",
    "    print('Not match')\n",
    "else:\n",
    "    print('Match')"
   ]
  },
  {
   "cell_type": "code",
   "execution_count": 22,
   "metadata": {},
   "outputs": [
    {
     "data": {
      "text/plain": [
       "[1, 2, 3, 4, 5, 6]"
      ]
     },
     "execution_count": 22,
     "metadata": {},
     "output_type": "execute_result"
    }
   ],
   "source": [
    "a = [1, 2, 3]\n",
    "b = [4, 5, 6]\n",
    "a.extend(b) #append是加一个元素\n",
    "a"
   ]
  },
  {
   "cell_type": "code",
   "execution_count": 24,
   "metadata": {},
   "outputs": [
    {
     "data": {
      "text/plain": [
       "[1, 2, 3, 4, 5, 6]"
      ]
     },
     "execution_count": 24,
     "metadata": {},
     "output_type": "execute_result"
    }
   ],
   "source": [
    "a = [1, 2, 3]\n",
    "b = [4, 5, 6]\n",
    "a += b #直接加也可以；与c语言不一样，实际上是新建了一个123456的数组把a标签贴上去\n",
    "a"
   ]
  },
  {
   "cell_type": "code",
   "execution_count": 28,
   "metadata": {},
   "outputs": [
    {
     "data": {
      "text/plain": [
       "[6, 5, 4, 3, 2, 1]"
      ]
     },
     "execution_count": 28,
     "metadata": {},
     "output_type": "execute_result"
    }
   ],
   "source": [
    "a.reverse()\n",
    "a"
   ]
  },
  {
   "cell_type": "code",
   "execution_count": 29,
   "metadata": {},
   "outputs": [
    {
     "name": "stdout",
     "output_type": "stream",
     "text": [
      "[372, 745, 574, 9, 564, 651, 449, 679, 388, 632, 209, 694, 682, 990, 867, 562, 738, 60, 141, 193, 53, 609, 202, 376, 348, 325, 682, 875, 205, 33, 972, 536, 786, 883, 293, 638, 997, 543, 60, 378, 616, 731, 180, 185, 25, 758, 979, 427, 111, 723, 115, 642, 408, 390, 652, 38, 196, 577, 846, 956, 510, 360, 201, 128, 537, 924, 941, 724, 186, 895, 233, 998, 214, 576, 52, 241, 199, 165, 99, 72, 214, 132, 942, 428, 851, 599, 226, 333, 375, 177, 405, 785, 24, 38, 261, 787, 959, 203, 225, 322]\n"
     ]
    }
   ],
   "source": [
    "import random\n",
    "#随机数\n",
    "a = list()\n",
    "for i in range(0, 100):\n",
    "    a.append(random.randint(0, 1000))#[0,100)\n",
    "    \n",
    "print(a)"
   ]
  },
  {
   "cell_type": "code",
   "execution_count": 30,
   "metadata": {},
   "outputs": [
    {
     "name": "stdout",
     "output_type": "stream",
     "text": [
      "[865, 832, 536, 607, 957, 254, 395, 637, 262, 663, 595, 245, 339, 561, 829, 146, 612, 223, 79, 988, 759, 164, 925, 125, 459, 434, 357, 793, 203, 175, 142, 367, 608, 865, 690, 934, 472, 915, 575, 838, 631, 90, 703, 7, 273, 188, 1, 262, 868, 482, 286, 645, 807, 242, 446, 287, 100, 184, 748, 819, 912, 401, 461, 823, 722, 31, 960, 469, 184, 516, 562, 303, 678, 373, 482, 698, 234, 769, 869, 396, 202, 354, 955, 722, 780, 713, 196, 365, 845, 744, 412, 232, 513, 531, 997, 175, 175, 545, 499, 473]\n"
     ]
    }
   ],
   "source": [
    "import random\n",
    "#随机数 一次性生成\n",
    "a = [ None ] * 100 #内存已经分配好了\n",
    "for i in range(0, 100):\n",
    "    a[i] = random.randint(0, 1000)#[0,100)\n",
    "    \n",
    "print(a)"
   ]
  },
  {
   "cell_type": "code",
   "execution_count": 36,
   "metadata": {},
   "outputs": [
    {
     "name": "stdout",
     "output_type": "stream",
     "text": [
      "194 µs ± 17.5 µs per loop (mean ± std. dev. of 7 runs, 10000 loops each)\n"
     ]
    }
   ],
   "source": [
    "%%timeit\n",
    "#测试效率 magics %% 应按惯例从第一行开始 否则报错：Line magic function `%%timeit` not found.\n",
    "import random\n",
    "#随机数\n",
    "a = list()\n",
    "for i in range(0, 100):\n",
    "    a.append(random.randint(0, 1000))#[0,100)\n"
   ]
  },
  {
   "cell_type": "code",
   "execution_count": 39,
   "metadata": {},
   "outputs": [
    {
     "name": "stdout",
     "output_type": "stream",
     "text": [
      "164 µs ± 12.7 µs per loop (mean ± std. dev. of 7 runs, 10000 loops each)\n"
     ]
    }
   ],
   "source": [
    "%%timeit\n",
    "import random\n",
    "#随机数 一次性生成\n",
    "a = [ None ] * 100 #内存已经分配好了\n",
    "for i in range(0, 100):\n",
    "    a[i] = random.randint(0, 1000)#[0,100)"
   ]
  },
  {
   "cell_type": "code",
   "execution_count": 45,
   "metadata": {},
   "outputs": [
    {
     "name": "stdout",
     "output_type": "stream",
     "text": [
      "[2, 33, 41, 63, 63, 66, 73, 75, 98, 111, 125, 126, 137, 146, 146, 148, 157, 182, 193, 195, 203, 211, 218, 220, 220, 224, 243, 257, 259, 259, 275, 299, 315, 325, 328, 357, 361, 369, 383, 383, 386, 393, 400, 430, 431, 436, 454, 466, 478, 501, 504, 504, 515, 524, 532, 534, 535, 537, 562, 564, 572, 583, 594, 602, 611, 612, 624, 627, 632, 633, 633, 640, 674, 678, 682, 715, 737, 746, 768, 782, 787, 803, 810, 834, 838, 841, 847, 856, 866, 871, 872, 879, 898, 899, 912, 926, 957, 976, 977, 994]\n",
      "-----\n",
      "[866, 611, 125, 899, 325, 847, 75, 41, 63, 787, 33, 63, 275, 583, 856, 257, 393, 299, 633, 504, 562, 898, 504, 534, 537, 879, 195, 674, 632, 715, 220, 678, 224, 203, 994, 746, 515, 737, 383, 926, 193, 612, 535, 532, 218, 478, 111, 627, 369, 564, 782, 431, 386, 682, 211, 841, 315, 810, 383, 838, 328, 871, 98, 624, 977, 259, 182, 957, 400, 640, 73, 572, 594, 768, 602, 146, 454, 466, 436, 430, 66, 157, 834, 146, 2, 872, 633, 243, 976, 137, 126, 912, 357, 361, 259, 501, 220, 524, 803, 148]\n"
     ]
    }
   ],
   "source": [
    "b=sorted(a)\n",
    "print(b)\n",
    "print('-----')\n",
    "print(a)#没有变"
   ]
  },
  {
   "cell_type": "code",
   "execution_count": 47,
   "metadata": {},
   "outputs": [
    {
     "name": "stdout",
     "output_type": "stream",
     "text": [
      "[2, 33, 41, 63, 63, 66, 73, 75, 98, 111, 125, 126, 137, 146, 146, 148, 157, 182, 193, 195, 203, 211, 218, 220, 220, 224, 243, 257, 259, 259, 275, 299, 315, 325, 328, 357, 361, 369, 383, 383, 386, 393, 400, 430, 431, 436, 454, 466, 478, 501, 504, 504, 515, 524, 532, 534, 535, 537, 562, 564, 572, 583, 594, 602, 611, 612, 624, 627, 632, 633, 633, 640, 674, 678, 682, 715, 737, 746, 768, 782, 787, 803, 810, 834, 838, 841, 847, 856, 866, 871, 872, 879, 898, 899, 912, 926, 957, 976, 977, 994]\n"
     ]
    }
   ],
   "source": [
    "a.sort()\n",
    "print(a)#变了 sort和sorted的区别"
   ]
  },
  {
   "cell_type": "code",
   "execution_count": 49,
   "metadata": {},
   "outputs": [
    {
     "data": {
      "text/plain": [
       "2"
      ]
     },
     "execution_count": 49,
     "metadata": {},
     "output_type": "execute_result"
    }
   ],
   "source": [
    "min(a)"
   ]
  },
  {
   "cell_type": "code",
   "execution_count": 50,
   "metadata": {},
   "outputs": [
    {
     "data": {
      "text/plain": [
       "994"
      ]
     },
     "execution_count": 50,
     "metadata": {},
     "output_type": "execute_result"
    }
   ],
   "source": [
    "max(a)"
   ]
  },
  {
   "cell_type": "code",
   "execution_count": 51,
   "metadata": {},
   "outputs": [
    {
     "data": {
      "text/plain": [
       "48363"
      ]
     },
     "execution_count": 51,
     "metadata": {},
     "output_type": "execute_result"
    }
   ],
   "source": [
    "sum(a)"
   ]
  },
  {
   "cell_type": "code",
   "execution_count": 52,
   "metadata": {},
   "outputs": [
    {
     "data": {
      "text/plain": [
       "5050"
      ]
     },
     "execution_count": 52,
     "metadata": {},
     "output_type": "execute_result"
    }
   ],
   "source": [
    "sum(range(1, 101))"
   ]
  },
  {
   "cell_type": "code",
   "execution_count": 53,
   "metadata": {},
   "outputs": [
    {
     "name": "stdout",
     "output_type": "stream",
     "text": [
      "Month:12\n",
      "Day:30\n",
      "This is the 364th day of the year\n"
     ]
    }
   ],
   "source": [
    "month = int(input('Month:'))#注意转换int\n",
    "day = int(input('Day:'))\n",
    "\n",
    "count = day\n",
    "if month >= 2:\n",
    "    count += 31\n",
    "if month >= 3:\n",
    "    count += 28\n",
    "if month >= 4:\n",
    "    count += 31\n",
    "if month >= 5:\n",
    "    count += 30\n",
    "if month >= 6:\n",
    "    count += 31   \n",
    "if month >= 7:\n",
    "    count += 30\n",
    "if month >= 8:\n",
    "    count += 31\n",
    "if month >= 9:\n",
    "    count += 31\n",
    "if month >= 10:\n",
    "    count += 30\n",
    "if month >= 11:\n",
    "    count += 31\n",
    "if month >= 12:\n",
    "    count += 30\n",
    "    \n",
    "print(f'This is the {count}th day of the year')\n",
    "    "
   ]
  },
  {
   "cell_type": "code",
   "execution_count": 56,
   "metadata": {},
   "outputs": [
    {
     "name": "stdout",
     "output_type": "stream",
     "text": [
      "Month:12\n",
      "Day:30\n",
      "This is the 364th day of the year\n"
     ]
    }
   ],
   "source": [
    "#table-driven \n",
    "# 数据驱动编程就是通过把程序逻辑的复杂度转移到人类更容易处理的数据中来，从而达到控制复杂度的目标。\n",
    "# 比如case分支的语句会越来越长，然后整段switch的逻辑是没有变化的。通过表驱动法，将容易变化的消息和不容易变化的逻辑分离。\n",
    "\n",
    "month = int(input('Month:'))#注意转换int\n",
    "day = int(input('Day:'))\n",
    "\n",
    "# count = day\n",
    "days_in_month = [31, 28, 31, 30, 31, 30, 31, 31, 30, 31, 30, 31]\n",
    "# count += sum(days_in_month[0:month-1]) #开区间\n",
    "\n",
    "    \n",
    "# print(f'This is the {count}th day of the year')\n",
    "    \n",
    "print(f'This is the {day +  sum(days_in_month[0:month-1])}th day of the year')\n"
   ]
  },
  {
   "cell_type": "code",
   "execution_count": 57,
   "metadata": {},
   "outputs": [
    {
     "name": "stdout",
     "output_type": "stream",
     "text": [
      "input a score:88\n",
      "B\n",
      "input a score:99\n",
      "A\n",
      "input a score:0\n",
      "D\n",
      "input a score:-1\n"
     ]
    }
   ],
   "source": [
    "grades = 'D'*60+'C'*15+'B'*15+'A'*11 #把分数变成图像的索引\n",
    "while True:\n",
    "    score = int(input('input a score:'))\n",
    "    if score < 0 or score > 100:\n",
    "        break;\n",
    "    print(grades[score])"
   ]
  },
  {
   "cell_type": "code",
   "execution_count": 65,
   "metadata": {},
   "outputs": [
    {
     "name": "stdout",
     "output_type": "stream",
     "text": [
      "[16535, 16694, 16846, 16641, 16692, 16592]\n"
     ]
    }
   ],
   "source": [
    "# 蒙特卡罗方法 用随机数\n",
    "\n",
    "import random\n",
    "\n",
    "count = [0] * 6\n",
    "# 制骰子\n",
    "for i in range(0, 100000):\n",
    "#     value = random.randint(1, 6)\n",
    "#     print(value, sep='', end=' ')\n",
    "    # seq：用来间隔多个对象，默认值是一个空格。也可以输入特定的值（符号、数字、中文都可）来间隔内容。\n",
    "    # end：用来设定以什么结尾，默认值是换行符\"\\n\"。也可以输入其他值来结尾。\n",
    "    \n",
    "    count[random.randint(1, 6) -1] += 1\n",
    "\n",
    "print(count)\n"
   ]
  },
  {
   "cell_type": "code",
   "execution_count": 63,
   "metadata": {},
   "outputs": [],
   "source": [
    "import matplotlib.pyplot as plt #缩写\n"
   ]
  },
  {
   "cell_type": "code",
   "execution_count": 66,
   "metadata": {},
   "outputs": [
    {
     "data": {
      "image/png": "[encoded data removed]",
      "text/plain": [
       "<Figure size 432x288 with 1 Axes>"
      ]
     },
     "metadata": {
      "needs_background": "light"
     },
     "output_type": "display_data"
    }
   ],
   "source": [
    "fig, ax = plt.subplots()\n",
    "plt.bar(range(1, 7), count)\n",
    "plt.show()"
   ]
  },
  {
   "cell_type": "code",
   "execution_count": 71,
   "metadata": {},
   "outputs": [],
   "source": [
    "#[[p1, p2, p3, p4, p5, p6], [p11,p12,p12,p13,p14,p15,p16],...]history \n",
    "\n",
    "#[[p1, p12, p13, p14,...],[p2, p22, p23, ...]]\n",
    "\n",
    "\n",
    "count = [0]*6\n",
    "history = []\n",
    "\n",
    "for j in range(0, 1000):\n",
    "    for i in range(0, 20):\n",
    "        count[random.randint(1,6)-1] += 1\n",
    "\n",
    "    prob = []\n",
    "    for i in range(0,6):\n",
    "        prob.append(count[i]/sum(count))\n",
    "    \n",
    "    history.append(prob)\n",
    "    \n",
    "# print(count)\n",
    "# print(prob)\n",
    "# print(history)"
   ]
  },
  {
   "cell_type": "code",
   "execution_count": 72,
   "metadata": {},
   "outputs": [
    {
     "data": {
      "image/png": "[encoded data removed]",
      "text/plain": [
       "<Figure size 432x288 with 1 Axes>"
      ]
     },
     "metadata": {
      "needs_background": "light"
     },
     "output_type": "display_data"
    }
   ],
   "source": [
    "fig, ax = plt.subplots()\n",
    "plt.plot(range(1000), history) #????\n",
    "plt.show()"
   ]
  },
  {
   "cell_type": "code",
   "execution_count": 81,
   "metadata": {},
   "outputs": [
    {
     "name": "stdout",
     "output_type": "stream",
     "text": [
      "6\n"
     ]
    }
   ],
   "source": [
    "# pop() 尾巴 pop(0)头\n",
    "#怎么测连续出现3个6的次数，用3个空间的队列，\n",
    "\n",
    "count = 0\n",
    "num = 4\n",
    "last_three = [0] * num\n",
    "\n",
    "for i in range(0, 10000):\n",
    "    value = random.randint(1, 6)\n",
    "    last_three.pop(0)\n",
    "    last_three.append(value)\n",
    "    if last_three == [6]*num:\n",
    "        count += 1\n",
    "\n",
    "print(count)"
   ]
  },
  {
   "cell_type": "code",
   "execution_count": 80,
   "metadata": {},
   "outputs": [
    {
     "data": {
      "text/plain": [
       "7.716049382716049"
      ]
     },
     "execution_count": 80,
     "metadata": {},
     "output_type": "execute_result"
    }
   ],
   "source": [
    "10000*(1/(216*6))"
   ]
  },
  {
   "cell_type": "code",
   "execution_count": 83,
   "metadata": {},
   "outputs": [
    {
     "name": "stdout",
     "output_type": "stream",
     "text": [
      "[0, 1, 2, 3, 4, 5, 6, 7, 8, 9]\n",
      "[0, 1, 4, 9, 16, 25, 36, 49, 64, 81]\n"
     ]
    }
   ],
   "source": [
    "# list comprehesion\n",
    "m = list(range(0, 10))\n",
    "m2 = []\n",
    "\n",
    "for i in range(0, 10):\n",
    "    m2.append(m[i] * m[i])\n",
    "\n",
    "print(m)\n",
    "print(m2)"
   ]
  },
  {
   "cell_type": "code",
   "execution_count": 86,
   "metadata": {},
   "outputs": [
    {
     "name": "stdout",
     "output_type": "stream",
     "text": [
      "[0, 1, 2, 3, 4, 5, 6, 7, 8, 9]\n",
      "[0, 1, 4, 9, 16, 25, 36, 49, 64, 81]\n"
     ]
    }
   ],
   "source": [
    "# list comprehesion\n",
    "m = list(range(0, 10))\n",
    "m2 = []\n",
    "\n",
    "for i in m:\n",
    "    m2.append(i * i)\n",
    "\n",
    "print(m)\n",
    "print(m2)"
   ]
  },
  {
   "cell_type": "code",
   "execution_count": 88,
   "metadata": {},
   "outputs": [
    {
     "name": "stdout",
     "output_type": "stream",
     "text": [
      "[0, 1, 2, 3, 4, 5, 6, 7, 8, 9]\n",
      "[0, 1, 4, 9, 16, 25, 36, 49, 64, 81]\n"
     ]
    }
   ],
   "source": [
    "# list comprehension 基于现有列表的值创建新列\n",
    "m = list(range(0, 10))\n",
    "m2 = [i*i for i in m] #最简洁\n",
    "\n",
    "print(m)\n",
    "print(m2)\n",
    "\n",
    "#python 是解释性语言， 看一行执行一行 和需要整个编译、执行的c不同，所以这种方式效率最高，在一行里完成\n"
   ]
  },
  {
   "cell_type": "code",
   "execution_count": 90,
   "metadata": {},
   "outputs": [
    {
     "data": {
      "text/plain": [
       "[0, 9, 36, 81]"
      ]
     },
     "execution_count": 90,
     "metadata": {},
     "output_type": "execute_result"
    }
   ],
   "source": [
    "[i*i for i in range(0, 10) if (i*i) %3 ==0] #可以加条件语句"
   ]
  },
  {
   "cell_type": "code",
   "execution_count": 93,
   "metadata": {},
   "outputs": [
    {
     "data": {
      "text/plain": [
       "[[0, 0],\n",
       " [0, 1],\n",
       " [0, 2],\n",
       " [0, 3],\n",
       " [0, 4],\n",
       " [0, 5],\n",
       " [0, 6],\n",
       " [0, 7],\n",
       " [0, 8],\n",
       " [0, 9],\n",
       " [1, 0],\n",
       " [1, 1],\n",
       " [1, 2],\n",
       " [1, 3],\n",
       " [1, 4],\n",
       " [1, 5],\n",
       " [1, 6],\n",
       " [1, 7],\n",
       " [1, 8],\n",
       " [1, 9],\n",
       " [2, 0],\n",
       " [2, 1],\n",
       " [2, 2],\n",
       " [2, 3],\n",
       " [2, 4],\n",
       " [2, 5],\n",
       " [2, 6],\n",
       " [2, 7],\n",
       " [2, 8],\n",
       " [2, 9],\n",
       " [3, 0],\n",
       " [3, 1],\n",
       " [3, 2],\n",
       " [3, 3],\n",
       " [3, 4],\n",
       " [3, 5],\n",
       " [3, 6],\n",
       " [3, 7],\n",
       " [3, 8],\n",
       " [3, 9],\n",
       " [4, 0],\n",
       " [4, 1],\n",
       " [4, 2],\n",
       " [4, 3],\n",
       " [4, 4],\n",
       " [4, 5],\n",
       " [4, 6],\n",
       " [4, 7],\n",
       " [4, 8],\n",
       " [4, 9],\n",
       " [5, 0],\n",
       " [5, 1],\n",
       " [5, 2],\n",
       " [5, 3],\n",
       " [5, 4],\n",
       " [5, 5],\n",
       " [5, 6],\n",
       " [5, 7],\n",
       " [5, 8],\n",
       " [5, 9],\n",
       " [6, 0],\n",
       " [6, 1],\n",
       " [6, 2],\n",
       " [6, 3],\n",
       " [6, 4],\n",
       " [6, 5],\n",
       " [6, 6],\n",
       " [6, 7],\n",
       " [6, 8],\n",
       " [6, 9],\n",
       " [7, 0],\n",
       " [7, 1],\n",
       " [7, 2],\n",
       " [7, 3],\n",
       " [7, 4],\n",
       " [7, 5],\n",
       " [7, 6],\n",
       " [7, 7],\n",
       " [7, 8],\n",
       " [7, 9],\n",
       " [8, 0],\n",
       " [8, 1],\n",
       " [8, 2],\n",
       " [8, 3],\n",
       " [8, 4],\n",
       " [8, 5],\n",
       " [8, 6],\n",
       " [8, 7],\n",
       " [8, 8],\n",
       " [8, 9],\n",
       " [9, 0],\n",
       " [9, 1],\n",
       " [9, 2],\n",
       " [9, 3],\n",
       " [9, 4],\n",
       " [9, 5],\n",
       " [9, 6],\n",
       " [9, 7],\n",
       " [9, 8],\n",
       " [9, 9]]"
      ]
     },
     "execution_count": 93,
     "metadata": {},
     "output_type": "execute_result"
    }
   ],
   "source": [
    "[[x,y] for x in range(0, 10) for y in range(0, 10)] #可以二维"
   ]
  },
  {
   "cell_type": "code",
   "execution_count": 94,
   "metadata": {},
   "outputs": [
    {
     "data": {
      "text/plain": [
       "(1, 2, 3)"
      ]
     },
     "execution_count": 94,
     "metadata": {},
     "output_type": "execute_result"
    }
   ],
   "source": [
    "#tuple 元组 和list 的区别：tuple不可变\n",
    "my_tuple = (1, 2, 3)\n",
    "my_tuple"
   ]
  },
  {
   "cell_type": "code",
   "execution_count": 96,
   "metadata": {},
   "outputs": [
    {
     "data": {
      "text/plain": [
       "tuple"
      ]
     },
     "execution_count": 96,
     "metadata": {},
     "output_type": "execute_result"
    }
   ],
   "source": [
    "type(my_tuple)"
   ]
  },
  {
   "cell_type": "code",
   "execution_count": 97,
   "metadata": {},
   "outputs": [
    {
     "ename": "TypeError",
     "evalue": "'tuple' object does not support item assignment",
     "output_type": "error",
     "traceback": [
      "\u001b[1;31m---------------------------------------------------------------------------\u001b[0m",
      "\u001b[1;31mTypeError\u001b[0m                                 Traceback (most recent call last)",
      "\u001b[1;32m<ipython-input-97-b455177814b8>\u001b[0m in \u001b[0;36m<module>\u001b[1;34m\u001b[0m\n\u001b[1;32m----> 1\u001b[1;33m \u001b[0mmy_tuple\u001b[0m\u001b[1;33m[\u001b[0m\u001b[1;36m0\u001b[0m\u001b[1;33m]\u001b[0m \u001b[1;33m=\u001b[0m \u001b[1;36m10\u001b[0m\u001b[1;33m\u001b[0m\u001b[1;33m\u001b[0m\u001b[0m\n\u001b[0m",
      "\u001b[1;31mTypeError\u001b[0m: 'tuple' object does not support item assignment"
     ]
    }
   ],
   "source": [
    "my_tuple[0] = 10"
   ]
  },
  {
   "cell_type": "code",
   "execution_count": 2,
   "metadata": {},
   "outputs": [
    {
     "name": "stdout",
     "output_type": "stream",
     "text": [
      "input your namename1\n",
      "90\n"
     ]
    }
   ],
   "source": [
    "names=['name1','name2','name3']\n",
    "scores = [90, 95, 88]\n",
    "\n",
    "name=input('input your name')\n",
    "print(scores[names.index(name)])\n"
   ]
  },
  {
   "cell_type": "code",
   "execution_count": 4,
   "metadata": {},
   "outputs": [
    {
     "name": "stdout",
     "output_type": "stream",
     "text": [
      "input your namename1\n",
      "90\n"
     ]
    }
   ],
   "source": [
    "scores= [['name1',90],['name2',95], ['name3',88]]\n",
    "\n",
    "name=input('input your name')\n",
    "for item in scores:\n",
    "    if item[0] == name:\n",
    "        print(item[1])\n",
    "\n",
    "#比第一种更有逻辑性"
   ]
  },
  {
   "cell_type": "code",
   "execution_count": 8,
   "metadata": {},
   "outputs": [
    {
     "name": "stdout",
     "output_type": "stream",
     "text": [
      "input your namename1\n",
      "90\n"
     ]
    }
   ],
   "source": [
    "scores_d= {'name1': 90, 'name2': 95, 'name3': 88}\n",
    "name=input('input your name')\n",
    "print(scores_d[name])\n"
   ]
  },
  {
   "cell_type": "code",
   "execution_count": 10,
   "metadata": {},
   "outputs": [
    {
     "data": {
      "text/plain": [
       "{'name1': 90, 'name2': 95, 'name3': 88, 'name4': 60}"
      ]
     },
     "execution_count": 10,
     "metadata": {},
     "output_type": "execute_result"
    }
   ],
   "source": [
    "scores_d['name4']=60\n",
    "scores_d"
   ]
  },
  {
   "cell_type": "code",
   "execution_count": 11,
   "metadata": {},
   "outputs": [
    {
     "data": {
      "text/plain": [
       "True"
      ]
     },
     "execution_count": 11,
     "metadata": {},
     "output_type": "execute_result"
    }
   ],
   "source": [
    "'name1' in scores_d"
   ]
  },
  {
   "cell_type": "code",
   "execution_count": 12,
   "metadata": {},
   "outputs": [
    {
     "data": {
      "text/plain": [
       "False"
      ]
     },
     "execution_count": 12,
     "metadata": {},
     "output_type": "execute_result"
    }
   ],
   "source": [
    "'NAME1' in scores_d"
   ]
  },
  {
   "cell_type": "code",
   "execution_count": 14,
   "metadata": {},
   "outputs": [
    {
     "data": {
      "text/plain": [
       "{'name1': 90, 'name2': 95, 'name3': 88}"
      ]
     },
     "execution_count": 14,
     "metadata": {},
     "output_type": "execute_result"
    }
   ],
   "source": [
    "scores #[['name1',90],['name2',95], ['name3',88]]\n",
    "d = dict(scores)\n",
    "d"
   ]
  },
  {
   "cell_type": "code",
   "execution_count": 15,
   "metadata": {},
   "outputs": [
    {
     "data": {
      "text/plain": [
       "{}"
      ]
     },
     "execution_count": 15,
     "metadata": {},
     "output_type": "execute_result"
    }
   ],
   "source": [
    "d=dict()\n",
    "d"
   ]
  },
  {
   "cell_type": "code",
   "execution_count": 17,
   "metadata": {},
   "outputs": [
    {
     "data": {
      "text/plain": [
       "{'name': None, 'age': None}"
      ]
     },
     "execution_count": 17,
     "metadata": {},
     "output_type": "execute_result"
    }
   ],
   "source": [
    "d1 = {}.fromkeys(['name', 'age'])\n",
    "d1"
   ]
  },
  {
   "cell_type": "code",
   "execution_count": 18,
   "metadata": {},
   "outputs": [
    {
     "data": {
      "text/plain": [
       "{'a': 0, 'e': 0, 'i': 0, 'o': 0, 'u': 0}"
      ]
     },
     "execution_count": 18,
     "metadata": {},
     "output_type": "execute_result"
    }
   ],
   "source": [
    "str='hello, this is a test'\n",
    "count = {}.fromkeys('aeiou',0) #0作为初值 字符串也可看做数组\n",
    "count"
   ]
  },
  {
   "cell_type": "code",
   "execution_count": 20,
   "metadata": {},
   "outputs": [
    {
     "name": "stdout",
     "output_type": "stream",
     "text": [
      "{'a': 1, 'e': 2, 'i': 2, 'o': 1, 'u': 0}\n"
     ]
    }
   ],
   "source": [
    "for ch in str:\n",
    "    if ch in count:\n",
    "        count[ch] +=1\n",
    "    \n",
    "print(count)\n",
    "#只要变量immutable 就可以做key"
   ]
  },
  {
   "cell_type": "code",
   "execution_count": 21,
   "metadata": {},
   "outputs": [
    {
     "ename": "KeyError",
     "evalue": "'h'",
     "output_type": "error",
     "traceback": [
      "\u001b[1;31m---------------------------------------------------------------------------\u001b[0m",
      "\u001b[1;31mKeyError\u001b[0m                                  Traceback (most recent call last)",
      "\u001b[1;32m<ipython-input-21-2ce9e06c8a62>\u001b[0m in \u001b[0;36m<module>\u001b[1;34m\u001b[0m\n\u001b[1;32m----> 1\u001b[1;33m \u001b[0mcount\u001b[0m\u001b[1;33m[\u001b[0m\u001b[1;34m'h'\u001b[0m\u001b[1;33m]\u001b[0m\u001b[1;33m\u001b[0m\u001b[1;33m\u001b[0m\u001b[0m\n\u001b[0m",
      "\u001b[1;31mKeyError\u001b[0m: 'h'"
     ]
    }
   ],
   "source": [
    "count['h']"
   ]
  },
  {
   "cell_type": "code",
   "execution_count": 22,
   "metadata": {},
   "outputs": [
    {
     "name": "stdout",
     "output_type": "stream",
     "text": [
      "None\n"
     ]
    }
   ],
   "source": [
    "print(count.get('h'))"
   ]
  },
  {
   "cell_type": "code",
   "execution_count": 23,
   "metadata": {},
   "outputs": [
    {
     "name": "stdout",
     "output_type": "stream",
     "text": [
      "-1\n"
     ]
    }
   ],
   "source": [
    "print(count.get('h', -1))#第二个参数表示不存在该键时的缺省值"
   ]
  },
  {
   "cell_type": "code",
   "execution_count": 1,
   "metadata": {},
   "outputs": [
    {
     "name": "stdout",
     "output_type": "stream",
     "text": [
      "input a name:zhang yuan\n",
      "input a score:100\n",
      "Name:zhang yuan, Score:100\n"
     ]
    }
   ],
   "source": [
    "student = dict.fromkeys('name','score')\n",
    "student['name'] = input('input a name:')\n",
    "student['score'] = input('input a score:')\n",
    "\n",
    "print(f\"Name:{student['name']}, Score:{student['score']}\")"
   ]
  },
  {
   "cell_type": "code",
   "execution_count": 3,
   "metadata": {},
   "outputs": [
    {
     "name": "stdout",
     "output_type": "stream",
     "text": [
      "input a name:zhang\n",
      "input a score:100\n",
      "Name:zhang, Score:100\n"
     ]
    }
   ],
   "source": [
    "student =['', 0]\n",
    "student[0] = input('input a name:')\n",
    "student[1] = input('input a score:')\n",
    "\n",
    "print(f\"Name:{student[0]}, Score:{student[1]}\")"
   ]
  },
  {
   "cell_type": "code",
   "execution_count": 1,
   "metadata": {},
   "outputs": [
    {
     "name": "stdout",
     "output_type": "stream",
     "text": [
      "input id:1\n",
      "input name:zhangsan\n",
      "input physics score:120\n",
      "input math score:30\n",
      "input python score:40\n",
      "{'1': {'name': 'zhangsan', 'physics': 120, 'math': 30, 'python': 40}}\n"
     ]
    }
   ],
   "source": [
    "scores = {}\n",
    "\n",
    "#名字做key  重名\n",
    "for i in range(0, 1):\n",
    "    sid = input('input id:')\n",
    "    name = input('input name:')\n",
    "    physics= int(input('input physics score:'))\n",
    "    math=int(input('input math score:'))\n",
    "    python=int(input('input python score:'))\n",
    "    scores[sid]={'name': name, 'physics': physics, 'math': math, 'python':python}\n",
    "    \n",
    "print(scores)\n",
    "    "
   ]
  },
  {
   "cell_type": "code",
   "execution_count": 2,
   "metadata": {},
   "outputs": [],
   "source": [
    "import json #引入模块\n",
    "\n",
    "with open('score_db.json', 'w') as f: #新建文件 w写\n",
    "    json.dump(scores, f) #写入json\n",
    "    \n",
    "#with 打开的文件不需要close，语句块结束后就会自动释放"
   ]
  },
  {
   "cell_type": "code",
   "execution_count": 3,
   "metadata": {},
   "outputs": [
    {
     "data": {
      "text/plain": [
       "{'1': {'name': 'zhangsan', 'physics': 120, 'math': 30, 'python': 40}}"
      ]
     },
     "execution_count": 3,
     "metadata": {},
     "output_type": "execute_result"
    }
   ],
   "source": [
    "with open('score_db.json') as f:\n",
    "    new_scores = json.load(f)\n",
    "new_scores"
   ]
  },
  {
   "cell_type": "code",
   "execution_count": 8,
   "metadata": {},
   "outputs": [
    {
     "name": "stdout",
     "output_type": "stream",
     "text": [
      "69 71 53 106 64 59 87 74 37 80 95 92 110 91 73 57 39 91 86 85 52 60 74 88 71 60 54 69 63 69 62 91 50 62 67 79 86 72 24 111 70 64 69 99 69 88 47 48 57 82 88 88 109 58 65 41 87 66 71 56 119 81 39 71 63 75 20 30 54 118 62 71 75 94 67 64 74 71 70 73 94 80 72 59 80 85 85 70 62 70 96 71 73 59 101 87 87 61 68 115 "
     ]
    }
   ],
   "source": [
    "import random\n",
    "import math\n",
    "def get_random_score():\n",
    "    return math.ceil(random.gauss(75,20))#它用于返回具有高斯分布的随机浮点数。 75为中间值（高斯分布我还不太清楚）\n",
    "\n",
    "for i in range(0, 100):\n",
    "    print(get_random_score(), end=' ') ##有超过100的"
   ]
  },
  {
   "cell_type": "code",
   "execution_count": 9,
   "metadata": {},
   "outputs": [
    {
     "name": "stdout",
     "output_type": "stream",
     "text": [
      "41 86 48 100 100 90 86 63 100 56 61 58 98 72 70 87 50 75 74 83 57 86 57 78 66 89 72 78 88 86 100 82 47 57 100 68 98 99 62 84 97 76 54 87 75 87 68 76 62 50 59 81 88 63 86 59 40 57 83 62 77 68 84 63 100 100 90 83 35 39 51 65 9 86 91 93 45 74 72 92 54 79 4 79 100 69 73 77 84 57 52 80 53 66 67 67 92 60 92 80 "
     ]
    }
   ],
   "source": [
    "def get_random_score():\n",
    "    score = math.ceil(random.gauss(75,20))#它用于返回具有高斯分布的随机浮点数。 75为中间值（高斯分布我还不太清楚）\n",
    "    if score> 100: score=100\n",
    "    if score< 0: score= 0 #处理超出范围的数据\n",
    "    return score\n",
    "    \n",
    "for i in range(0, 100):\n",
    "    print(get_random_score(), end=' ')"
   ]
  },
  {
   "cell_type": "code",
   "execution_count": 19,
   "metadata": {},
   "outputs": [
    {
     "data": {
      "text/plain": [
       "88"
      ]
     },
     "execution_count": 19,
     "metadata": {},
     "output_type": "execute_result"
    }
   ],
   "source": [
    "first_names = ['san', 'si','wu','liu','jia','yi','bing','ding']\n",
    "last_names = ['zhao', 'qian', 'sun', 'li', 'zhou','wu','zheng','wang','feng','cheng','chu']\n",
    "names = list()\n",
    "names = [first_name + ' ' + last_name for first_name in first_names for last_name in last_names]\n",
    "len(names)"
   ]
  },
  {
   "cell_type": "code",
   "execution_count": 22,
   "metadata": {},
   "outputs": [
    {
     "data": {
      "text/plain": [
       "{'20210': {'name': 'san zhao', 'physics': 65, 'math': 100, 'python': 94},\n",
       " '20211': {'name': 'san qian', 'physics': 89, 'math': 96, 'python': 38},\n",
       " '20212': {'name': 'san sun', 'physics': 84, 'math': 61, 'python': 34},\n",
       " '20213': {'name': 'san li', 'physics': 51, 'math': 53, 'python': 77},\n",
       " '20214': {'name': 'san zhou', 'physics': 39, 'math': 62, 'python': 51},\n",
       " '20215': {'name': 'san wu', 'physics': 57, 'math': 69, 'python': 73},\n",
       " '20216': {'name': 'san zheng', 'physics': 69, 'math': 73, 'python': 70},\n",
       " '20217': {'name': 'san wang', 'physics': 99, 'math': 67, 'python': 70},\n",
       " '20218': {'name': 'san feng', 'physics': 88, 'math': 58, 'python': 44},\n",
       " '20219': {'name': 'san cheng', 'physics': 100, 'math': 52, 'python': 100},\n",
       " '202110': {'name': 'san chu', 'physics': 92, 'math': 44, 'python': 52},\n",
       " '202111': {'name': 'si zhao', 'physics': 69, 'math': 79, 'python': 46},\n",
       " '202112': {'name': 'si qian', 'physics': 49, 'math': 80, 'python': 88},\n",
       " '202113': {'name': 'si sun', 'physics': 73, 'math': 28, 'python': 100},\n",
       " '202114': {'name': 'si li', 'physics': 80, 'math': 94, 'python': 100},\n",
       " '202115': {'name': 'si zhou', 'physics': 98, 'math': 88, 'python': 96},\n",
       " '202116': {'name': 'si wu', 'physics': 100, 'math': 45, 'python': 100},\n",
       " '202117': {'name': 'si zheng', 'physics': 28, 'math': 75, 'python': 97},\n",
       " '202118': {'name': 'si wang', 'physics': 72, 'math': 90, 'python': 75},\n",
       " '202119': {'name': 'si feng', 'physics': 95, 'math': 96, 'python': 76},\n",
       " '202120': {'name': 'si cheng', 'physics': 43, 'math': 71, 'python': 76},\n",
       " '202121': {'name': 'si chu', 'physics': 73, 'math': 85, 'python': 93},\n",
       " '202122': {'name': 'wu zhao', 'physics': 96, 'math': 72, 'python': 70},\n",
       " '202123': {'name': 'wu qian', 'physics': 49, 'math': 77, 'python': 94},\n",
       " '202124': {'name': 'wu sun', 'physics': 84, 'math': 91, 'python': 83},\n",
       " '202125': {'name': 'wu li', 'physics': 37, 'math': 57, 'python': 88},\n",
       " '202126': {'name': 'wu zhou', 'physics': 92, 'math': 84, 'python': 75},\n",
       " '202127': {'name': 'wu wu', 'physics': 83, 'math': 52, 'python': 66},\n",
       " '202128': {'name': 'wu zheng', 'physics': 45, 'math': 29, 'python': 49},\n",
       " '202129': {'name': 'wu wang', 'physics': 65, 'math': 100, 'python': 67},\n",
       " '202130': {'name': 'wu feng', 'physics': 91, 'math': 44, 'python': 64},\n",
       " '202131': {'name': 'wu cheng', 'physics': 88, 'math': 72, 'python': 78},\n",
       " '202132': {'name': 'wu chu', 'physics': 100, 'math': 79, 'python': 62},\n",
       " '202133': {'name': 'liu zhao', 'physics': 45, 'math': 100, 'python': 71},\n",
       " '202134': {'name': 'liu qian', 'physics': 100, 'math': 70, 'python': 60},\n",
       " '202135': {'name': 'liu sun', 'physics': 74, 'math': 68, 'python': 72},\n",
       " '202136': {'name': 'liu li', 'physics': 90, 'math': 79, 'python': 81},\n",
       " '202137': {'name': 'liu zhou', 'physics': 58, 'math': 91, 'python': 70},\n",
       " '202138': {'name': 'liu wu', 'physics': 73, 'math': 86, 'python': 64},\n",
       " '202139': {'name': 'liu zheng', 'physics': 77, 'math': 75, 'python': 87},\n",
       " '202140': {'name': 'liu wang', 'physics': 79, 'math': 72, 'python': 57},\n",
       " '202141': {'name': 'liu feng', 'physics': 100, 'math': 77, 'python': 43},\n",
       " '202142': {'name': 'liu cheng', 'physics': 79, 'math': 100, 'python': 97},\n",
       " '202143': {'name': 'liu chu', 'physics': 64, 'math': 97, 'python': 94},\n",
       " '202144': {'name': 'jia zhao', 'physics': 74, 'math': 60, 'python': 75},\n",
       " '202145': {'name': 'jia qian', 'physics': 26, 'math': 79, 'python': 75},\n",
       " '202146': {'name': 'jia sun', 'physics': 50, 'math': 48, 'python': 57},\n",
       " '202147': {'name': 'jia li', 'physics': 65, 'math': 36, 'python': 49},\n",
       " '202148': {'name': 'jia zhou', 'physics': 77, 'math': 77, 'python': 53},\n",
       " '202149': {'name': 'jia wu', 'physics': 65, 'math': 97, 'python': 98},\n",
       " '202150': {'name': 'jia zheng', 'physics': 66, 'math': 100, 'python': 65},\n",
       " '202151': {'name': 'jia wang', 'physics': 60, 'math': 100, 'python': 53},\n",
       " '202152': {'name': 'jia feng', 'physics': 78, 'math': 93, 'python': 52},\n",
       " '202153': {'name': 'jia cheng', 'physics': 24, 'math': 58, 'python': 52},\n",
       " '202154': {'name': 'jia chu', 'physics': 34, 'math': 69, 'python': 58},\n",
       " '202155': {'name': 'yi zhao', 'physics': 28, 'math': 88, 'python': 100},\n",
       " '202156': {'name': 'yi qian', 'physics': 74, 'math': 86, 'python': 87},\n",
       " '202157': {'name': 'yi sun', 'physics': 80, 'math': 66, 'python': 61},\n",
       " '202158': {'name': 'yi li', 'physics': 93, 'math': 97, 'python': 54},\n",
       " '202159': {'name': 'yi zhou', 'physics': 42, 'math': 78, 'python': 100},\n",
       " '202160': {'name': 'yi wu', 'physics': 100, 'math': 46, 'python': 71},\n",
       " '202161': {'name': 'yi zheng', 'physics': 95, 'math': 69, 'python': 69},\n",
       " '202162': {'name': 'yi wang', 'physics': 87, 'math': 44, 'python': 77},\n",
       " '202163': {'name': 'yi feng', 'physics': 77, 'math': 100, 'python': 69},\n",
       " '202164': {'name': 'yi cheng', 'physics': 84, 'math': 59, 'python': 100},\n",
       " '202165': {'name': 'yi chu', 'physics': 40, 'math': 52, 'python': 100},\n",
       " '202166': {'name': 'bing zhao', 'physics': 25, 'math': 100, 'python': 64},\n",
       " '202167': {'name': 'bing qian', 'physics': 82, 'math': 36, 'python': 92},\n",
       " '202168': {'name': 'bing sun', 'physics': 42, 'math': 100, 'python': 89},\n",
       " '202169': {'name': 'bing li', 'physics': 54, 'math': 78, 'python': 100},\n",
       " '202170': {'name': 'bing zhou', 'physics': 82, 'math': 96, 'python': 81},\n",
       " '202171': {'name': 'bing wu', 'physics': 96, 'math': 66, 'python': 69},\n",
       " '202172': {'name': 'bing zheng', 'physics': 85, 'math': 99, 'python': 48},\n",
       " '202173': {'name': 'bing wang', 'physics': 86, 'math': 75, 'python': 64},\n",
       " '202174': {'name': 'bing feng', 'physics': 100, 'math': 93, 'python': 71},\n",
       " '202175': {'name': 'bing cheng', 'physics': 82, 'math': 85, 'python': 37},\n",
       " '202176': {'name': 'bing chu', 'physics': 74, 'math': 89, 'python': 62},\n",
       " '202177': {'name': 'ding zhao', 'physics': 83, 'math': 81, 'python': 71},\n",
       " '202178': {'name': 'ding qian', 'physics': 70, 'math': 32, 'python': 89},\n",
       " '202179': {'name': 'ding sun', 'physics': 47, 'math': 65, 'python': 44},\n",
       " '202180': {'name': 'ding li', 'physics': 72, 'math': 90, 'python': 49},\n",
       " '202181': {'name': 'ding zhou', 'physics': 98, 'math': 100, 'python': 90},\n",
       " '202182': {'name': 'ding wu', 'physics': 72, 'math': 100, 'python': 38},\n",
       " '202183': {'name': 'ding zheng', 'physics': 93, 'math': 66, 'python': 54},\n",
       " '202184': {'name': 'ding wang', 'physics': 96, 'math': 82, 'python': 52},\n",
       " '202185': {'name': 'ding feng', 'physics': 71, 'math': 37, 'python': 85},\n",
       " '202186': {'name': 'ding cheng', 'physics': 80, 'math': 65, 'python': 61},\n",
       " '202187': {'name': 'ding chu', 'physics': 73, 'math': 91, 'python': 86}}"
      ]
     },
     "execution_count": 22,
     "metadata": {},
     "output_type": "execute_result"
    }
   ],
   "source": [
    "scores = {}\n",
    "\n",
    "for i in range(0, 88):\n",
    "    sid = '2021' + repr(i)#repr() 函数将对象转化为供解释器读取的形式。??\n",
    "    name = names[i]\n",
    "    physics= get_random_score()\n",
    "    math_score=get_random_score()#注意math变量和模块的冲突\n",
    "    python=get_random_score()\n",
    "    scores[sid]={'name': name, 'physics': physics, 'math': math_score, 'python':python}\n",
    "    \n",
    "# print(scores)\n",
    "\n",
    "with open('score_db.json', 'w') as f: #新建文件 w写\n",
    "    json.dump(scores, f) #写入json\n",
    "\n",
    "scores"
   ]
  },
  {
   "cell_type": "code",
   "execution_count": 21,
   "metadata": {},
   "outputs": [
    {
     "name": "stdout",
     "output_type": "stream",
     "text": [
      "{'20210': {'math': 92, 'name': 'san zhao', 'physics': 61, 'python': 50},\n",
      " '20211': {'math': 64, 'name': 'san qian', 'physics': 86, 'python': 74},\n",
      " '202110': {'math': 48, 'name': 'san chu', 'physics': 76, 'python': 63},\n",
      " '202111': {'math': 54, 'name': 'si zhao', 'physics': 45, 'python': 66},\n",
      " '202112': {'math': 65, 'name': 'si qian', 'physics': 100, 'python': 59},\n",
      " '202113': {'math': 97, 'name': 'si sun', 'physics': 100, 'python': 79},\n",
      " '202114': {'math': 85, 'name': 'si li', 'physics': 100, 'python': 100},\n",
      " '202115': {'math': 75, 'name': 'si zhou', 'physics': 100, 'python': 90},\n",
      " '202116': {'math': 70, 'name': 'si wu', 'physics': 39, 'python': 42},\n",
      " '202117': {'math': 97, 'name': 'si zheng', 'physics': 87, 'python': 94},\n",
      " '202118': {'math': 37, 'name': 'si wang', 'physics': 59, 'python': 100},\n",
      " '202119': {'math': 67, 'name': 'si feng', 'physics': 91, 'python': 81},\n",
      " '20212': {'math': 100, 'name': 'san sun', 'physics': 74, 'python': 77},\n",
      " '202120': {'math': 55, 'name': 'si cheng', 'physics': 45, 'python': 82},\n",
      " '202121': {'math': 75, 'name': 'si chu', 'physics': 97, 'python': 75},\n",
      " '202122': {'math': 71, 'name': 'wu zhao', 'physics': 79, 'python': 78},\n",
      " '202123': {'math': 100, 'name': 'wu qian', 'physics': 65, 'python': 95},\n",
      " '202124': {'math': 73, 'name': 'wu sun', 'physics': 100, 'python': 32},\n",
      " '202125': {'math': 33, 'name': 'wu li', 'physics': 96, 'python': 62},\n",
      " '202126': {'math': 56, 'name': 'wu zhou', 'physics': 51, 'python': 84},\n",
      " '202127': {'math': 59, 'name': 'wu wu', 'physics': 62, 'python': 72},\n",
      " '202128': {'math': 69, 'name': 'wu zheng', 'physics': 68, 'python': 84},\n",
      " '202129': {'math': 35, 'name': 'wu wang', 'physics': 56, 'python': 92},\n",
      " '20213': {'math': 72, 'name': 'san li', 'physics': 71, 'python': 83},\n",
      " '202130': {'math': 61, 'name': 'wu feng', 'physics': 100, 'python': 51},\n",
      " '202131': {'math': 42, 'name': 'wu cheng', 'physics': 100, 'python': 73},\n",
      " '202132': {'math': 77, 'name': 'wu chu', 'physics': 100, 'python': 100},\n",
      " '202133': {'math': 59, 'name': 'liu zhao', 'physics': 29, 'python': 67},\n",
      " '202134': {'math': 86, 'name': 'liu qian', 'physics': 100, 'python': 100},\n",
      " '202135': {'math': 84, 'name': 'liu sun', 'physics': 66, 'python': 79},\n",
      " '202136': {'math': 56, 'name': 'liu li', 'physics': 84, 'python': 100},\n",
      " '202137': {'math': 43, 'name': 'liu zhou', 'physics': 97, 'python': 82},\n",
      " '202138': {'math': 86, 'name': 'liu wu', 'physics': 87, 'python': 73},\n",
      " '202139': {'math': 82, 'name': 'liu zheng', 'physics': 97, 'python': 63},\n",
      " '20214': {'math': 79, 'name': 'san zhou', 'physics': 70, 'python': 31},\n",
      " '202140': {'math': 55, 'name': 'liu wang', 'physics': 86, 'python': 69},\n",
      " '202141': {'math': 79, 'name': 'liu feng', 'physics': 68, 'python': 74},\n",
      " '202142': {'math': 100, 'name': 'liu cheng', 'physics': 100, 'python': 76},\n",
      " '202143': {'math': 62, 'name': 'liu chu', 'physics': 82, 'python': 27},\n",
      " '202144': {'math': 80, 'name': 'jia zhao', 'physics': 50, 'python': 77},\n",
      " '202145': {'math': 31, 'name': 'jia qian', 'physics': 100, 'python': 60},\n",
      " '202146': {'math': 57, 'name': 'jia sun', 'physics': 76, 'python': 87},\n",
      " '202147': {'math': 94, 'name': 'jia li', 'physics': 39, 'python': 78},\n",
      " '202148': {'math': 59, 'name': 'jia zhou', 'physics': 20, 'python': 62},\n",
      " '202149': {'math': 66, 'name': 'jia wu', 'physics': 56, 'python': 53},\n",
      " '20215': {'math': 78, 'name': 'san wu', 'physics': 63, 'python': 50},\n",
      " '202150': {'math': 94, 'name': 'jia zheng', 'physics': 66, 'python': 78},\n",
      " '202151': {'math': 98, 'name': 'jia wang', 'physics': 100, 'python': 100},\n",
      " '202152': {'math': 85, 'name': 'jia feng', 'physics': 54, 'python': 66},\n",
      " '202153': {'math': 95, 'name': 'jia cheng', 'physics': 86, 'python': 86},\n",
      " '202154': {'math': 61, 'name': 'jia chu', 'physics': 93, 'python': 65},\n",
      " '202155': {'math': 95, 'name': 'yi zhao', 'physics': 91, 'python': 39},\n",
      " '202156': {'math': 67, 'name': 'yi qian', 'physics': 83, 'python': 48},\n",
      " '202157': {'math': 21, 'name': 'yi sun', 'physics': 100, 'python': 46},\n",
      " '202158': {'math': 99, 'name': 'yi li', 'physics': 82, 'python': 54},\n",
      " '202159': {'math': 75, 'name': 'yi zhou', 'physics': 100, 'python': 66},\n",
      " '20216': {'math': 46, 'name': 'san zheng', 'physics': 57, 'python': 100},\n",
      " '202160': {'math': 99, 'name': 'yi wu', 'physics': 83, 'python': 60},\n",
      " '202161': {'math': 96, 'name': 'yi zheng', 'physics': 98, 'python': 75},\n",
      " '202162': {'math': 80, 'name': 'yi wang', 'physics': 56, 'python': 12},\n",
      " '202163': {'math': 84, 'name': 'yi feng', 'physics': 83, 'python': 29},\n",
      " '202164': {'math': 76, 'name': 'yi cheng', 'physics': 82, 'python': 90},\n",
      " '202165': {'math': 70, 'name': 'yi chu', 'physics': 100, 'python': 98},\n",
      " '202166': {'math': 56, 'name': 'bing zhao', 'physics': 93, 'python': 76},\n",
      " '202167': {'math': 62, 'name': 'bing qian', 'physics': 86, 'python': 51},\n",
      " '202168': {'math': 66, 'name': 'bing sun', 'physics': 53, 'python': 67},\n",
      " '202169': {'math': 69, 'name': 'bing li', 'physics': 82, 'python': 64},\n",
      " '20217': {'math': 100, 'name': 'san wang', 'physics': 77, 'python': 100},\n",
      " '202170': {'math': 58, 'name': 'bing zhou', 'physics': 68, 'python': 82},\n",
      " '202171': {'math': 92, 'name': 'bing wu', 'physics': 43, 'python': 97},\n",
      " '202172': {'math': 70, 'name': 'bing zheng', 'physics': 88, 'python': 88},\n",
      " '202173': {'math': 83, 'name': 'bing wang', 'physics': 70, 'python': 67},\n",
      " '202174': {'math': 95, 'name': 'bing feng', 'physics': 71, 'python': 73},\n",
      " '202175': {'math': 59, 'name': 'bing cheng', 'physics': 79, 'python': 73},\n",
      " '202176': {'math': 100, 'name': 'bing chu', 'physics': 69, 'python': 71},\n",
      " '202177': {'math': 65, 'name': 'ding zhao', 'physics': 75, 'python': 54},\n",
      " '202178': {'math': 63, 'name': 'ding qian', 'physics': 97, 'python': 100},\n",
      " '202179': {'math': 62, 'name': 'ding sun', 'physics': 38, 'python': 72},\n",
      " '20218': {'math': 65, 'name': 'san feng', 'physics': 70, 'python': 70},\n",
      " '202180': {'math': 94, 'name': 'ding li', 'physics': 80, 'python': 84},\n",
      " '202181': {'math': 100, 'name': 'ding zhou', 'physics': 86, 'python': 69},\n",
      " '202182': {'math': 62, 'name': 'ding wu', 'physics': 55, 'python': 63},\n",
      " '202183': {'math': 92, 'name': 'ding zheng', 'physics': 73, 'python': 96},\n",
      " '202184': {'math': 83, 'name': 'ding wang', 'physics': 74, 'python': 63},\n",
      " '202185': {'math': 100, 'name': 'ding feng', 'physics': 74, 'python': 59},\n",
      " '202186': {'math': 96, 'name': 'ding cheng', 'physics': 100, 'python': 75},\n",
      " '202187': {'math': 83, 'name': 'ding chu', 'physics': 87, 'python': 56},\n",
      " '20219': {'math': 87, 'name': 'san cheng', 'physics': 73, 'python': 69}}\n"
     ]
    }
   ],
   "source": [
    "import pprint #pprint 模块提供了“美化打印”任意Python 数据结构的功能，\n",
    "pprint.pprint(scores)"
   ]
  },
  {
   "cell_type": "code",
   "execution_count": 33,
   "metadata": {},
   "outputs": [
    {
     "name": "stdout",
     "output_type": "stream",
     "text": [
      "input a name:jia wu\n",
      "id: 202149 Name:jia wu physics:65Math: 97 python: 98\n"
     ]
    }
   ],
   "source": [
    "name = input('input a name:')\n",
    "\n",
    "for key,value in scores.items():\n",
    "    if value['name'] == name:\n",
    "        print(f\"id: {key} Name:{name} physics:{value['physics']}Math: {value['math']} python: {value['python']}\" )"
   ]
  },
  {
   "cell_type": "code",
   "execution_count": 34,
   "metadata": {},
   "outputs": [
    {
     "name": "stdout",
     "output_type": "stream",
     "text": [
      "input a name:jia wu\n",
      "id: 202149 Name:jia wu physics:65Math: 97 python: 98\n"
     ]
    }
   ],
   "source": [
    "name = input('input a name:')\n",
    "\n",
    "for item in scores:\n",
    "    if scores[item]['name'] == name:\n",
    "        print(f\"id: {item} Name:{name} physics:{scores[item]['physics']}Math: {scores[item]['math']} python: {scores[item]['python']}\" )"
   ]
  },
  {
   "cell_type": "code",
   "execution_count": 36,
   "metadata": {},
   "outputs": [],
   "source": [
    "name_to_id={}\n",
    "for key, value in scores.items():\n",
    "    name_to_id[value['name']] = key"
   ]
  },
  {
   "cell_type": "code",
   "execution_count": 37,
   "metadata": {
    "scrolled": true
   },
   "outputs": [
    {
     "data": {
      "text/plain": [
       "{'san zhao': '20210',\n",
       " 'san qian': '20211',\n",
       " 'san sun': '20212',\n",
       " 'san li': '20213',\n",
       " 'san zhou': '20214',\n",
       " 'san wu': '20215',\n",
       " 'san zheng': '20216',\n",
       " 'san wang': '20217',\n",
       " 'san feng': '20218',\n",
       " 'san cheng': '20219',\n",
       " 'san chu': '202110',\n",
       " 'si zhao': '202111',\n",
       " 'si qian': '202112',\n",
       " 'si sun': '202113',\n",
       " 'si li': '202114',\n",
       " 'si zhou': '202115',\n",
       " 'si wu': '202116',\n",
       " 'si zheng': '202117',\n",
       " 'si wang': '202118',\n",
       " 'si feng': '202119',\n",
       " 'si cheng': '202120',\n",
       " 'si chu': '202121',\n",
       " 'wu zhao': '202122',\n",
       " 'wu qian': '202123',\n",
       " 'wu sun': '202124',\n",
       " 'wu li': '202125',\n",
       " 'wu zhou': '202126',\n",
       " 'wu wu': '202127',\n",
       " 'wu zheng': '202128',\n",
       " 'wu wang': '202129',\n",
       " 'wu feng': '202130',\n",
       " 'wu cheng': '202131',\n",
       " 'wu chu': '202132',\n",
       " 'liu zhao': '202133',\n",
       " 'liu qian': '202134',\n",
       " 'liu sun': '202135',\n",
       " 'liu li': '202136',\n",
       " 'liu zhou': '202137',\n",
       " 'liu wu': '202138',\n",
       " 'liu zheng': '202139',\n",
       " 'liu wang': '202140',\n",
       " 'liu feng': '202141',\n",
       " 'liu cheng': '202142',\n",
       " 'liu chu': '202143',\n",
       " 'jia zhao': '202144',\n",
       " 'jia qian': '202145',\n",
       " 'jia sun': '202146',\n",
       " 'jia li': '202147',\n",
       " 'jia zhou': '202148',\n",
       " 'jia wu': '202149',\n",
       " 'jia zheng': '202150',\n",
       " 'jia wang': '202151',\n",
       " 'jia feng': '202152',\n",
       " 'jia cheng': '202153',\n",
       " 'jia chu': '202154',\n",
       " 'yi zhao': '202155',\n",
       " 'yi qian': '202156',\n",
       " 'yi sun': '202157',\n",
       " 'yi li': '202158',\n",
       " 'yi zhou': '202159',\n",
       " 'yi wu': '202160',\n",
       " 'yi zheng': '202161',\n",
       " 'yi wang': '202162',\n",
       " 'yi feng': '202163',\n",
       " 'yi cheng': '202164',\n",
       " 'yi chu': '202165',\n",
       " 'bing zhao': '202166',\n",
       " 'bing qian': '202167',\n",
       " 'bing sun': '202168',\n",
       " 'bing li': '202169',\n",
       " 'bing zhou': '202170',\n",
       " 'bing wu': '202171',\n",
       " 'bing zheng': '202172',\n",
       " 'bing wang': '202173',\n",
       " 'bing feng': '202174',\n",
       " 'bing cheng': '202175',\n",
       " 'bing chu': '202176',\n",
       " 'ding zhao': '202177',\n",
       " 'ding qian': '202178',\n",
       " 'ding sun': '202179',\n",
       " 'ding li': '202180',\n",
       " 'ding zhou': '202181',\n",
       " 'ding wu': '202182',\n",
       " 'ding zheng': '202183',\n",
       " 'ding wang': '202184',\n",
       " 'ding feng': '202185',\n",
       " 'ding cheng': '202186',\n",
       " 'ding chu': '202187'}"
      ]
     },
     "execution_count": 37,
     "metadata": {},
     "output_type": "execute_result"
    }
   ],
   "source": [
    "name_to_id"
   ]
  },
  {
   "cell_type": "code",
   "execution_count": 38,
   "metadata": {},
   "outputs": [
    {
     "name": "stdout",
     "output_type": "stream",
     "text": [
      "input a name:jia wu\n",
      "id: 202149 Name:jia wu physics:65Math: 97 python: 98\n"
     ]
    }
   ],
   "source": [
    "name = input('input a name:')\n",
    "sid = name_to_id[name]\n",
    "# scores[sid]\n",
    "# 不需要循环，建立索引对应对象 会更高效 以空间换取时间\n",
    "print(f\"id: {sid} Name:{name} physics:{scores[sid]['physics']}Math: {scores[sid]['math']} python: {scores[sid]['python']}\")"
   ]
  },
  {
   "cell_type": "code",
   "execution_count": 1,
   "metadata": {},
   "outputs": [],
   "source": [
    "def hello(name):\n",
    "    print(f'hello, {name}!')\n",
    "    "
   ]
  },
  {
   "cell_type": "code",
   "execution_count": 2,
   "metadata": {},
   "outputs": [
    {
     "data": {
      "text/plain": [
       "<function __main__.hello(name)>"
      ]
     },
     "execution_count": 2,
     "metadata": {},
     "output_type": "execute_result"
    }
   ],
   "source": [
    "hello"
   ]
  },
  {
   "cell_type": "code",
   "execution_count": 3,
   "metadata": {},
   "outputs": [
    {
     "data": {
      "text/plain": [
       "True"
      ]
     },
     "execution_count": 3,
     "metadata": {},
     "output_type": "execute_result"
    }
   ],
   "source": [
    "#可以被调用\n",
    "callable(hello)"
   ]
  },
  {
   "cell_type": "code",
   "execution_count": 4,
   "metadata": {},
   "outputs": [
    {
     "name": "stdout",
     "output_type": "stream",
     "text": [
      "hello, world!\n"
     ]
    }
   ],
   "source": [
    "hello('world')"
   ]
  },
  {
   "cell_type": "code",
   "execution_count": 14,
   "metadata": {},
   "outputs": [],
   "source": [
    "def hello(name):\n",
    "    width=50\n",
    "    print('*' * width)\n",
    "    print(f'hello, {name}!'.center(width-2).center(width, '*'))\n",
    "    print('*' * width)"
   ]
  },
  {
   "cell_type": "code",
   "execution_count": 15,
   "metadata": {},
   "outputs": [
    {
     "name": "stdout",
     "output_type": "stream",
     "text": [
      "Help on function hello in module __main__:\n",
      "\n",
      "hello(name)\n",
      "\n"
     ]
    }
   ],
   "source": [
    "help(hello)"
   ]
  },
  {
   "cell_type": "code",
   "execution_count": 17,
   "metadata": {},
   "outputs": [],
   "source": [
    "def hello(name):\n",
    "    'say hello to the specified person' #函数功能说明 用help()可以查看\n",
    "    width=50\n",
    "    print('*' * width)\n",
    "    print(f'hello, {name}!'.center(width-2).center(width, '*'))\n",
    "    print('*' * width)"
   ]
  },
  {
   "cell_type": "code",
   "execution_count": 5,
   "metadata": {},
   "outputs": [
    {
     "data": {
      "text/plain": [
       "'*        test        *'"
      ]
     },
     "execution_count": 5,
     "metadata": {},
     "output_type": "execute_result"
    }
   ],
   "source": [
    "'test'.center(20).center(22, '*')"
   ]
  },
  {
   "cell_type": "code",
   "execution_count": 8,
   "metadata": {},
   "outputs": [
    {
     "name": "stdout",
     "output_type": "stream",
     "text": [
      "**************************************************\n",
      "*                 hello, world!                  *\n",
      "**************************************************\n"
     ]
    }
   ],
   "source": [
    "hello('world')"
   ]
  },
  {
   "cell_type": "code",
   "execution_count": 13,
   "metadata": {},
   "outputs": [
    {
     "name": "stdout",
     "output_type": "stream",
     "text": [
      "Help on function hello in module __main__:\n",
      "\n",
      "hello(name)\n",
      "    say hello to the specified person\n",
      "\n"
     ]
    }
   ],
   "source": [
    "help(hello)"
   ]
  },
  {
   "cell_type": "code",
   "execution_count": 18,
   "metadata": {},
   "outputs": [
    {
     "name": "stdout",
     "output_type": "stream",
     "text": [
      "[1, 1, 2, 3, 5, 8, 13, 21, 34, 55, 89, 144, 233, 377, 610, 987, 1597, 2584, 4181, 6765, 10946, 17711]\n"
     ]
    }
   ],
   "source": [
    "fibs = [1,1]\n",
    "for i in range(20):\n",
    "    fibs.append(fibs[-2]+ fibs[-1])\n",
    "    \n",
    "print(fibs)"
   ]
  },
  {
   "cell_type": "code",
   "execution_count": 2,
   "metadata": {},
   "outputs": [
    {
     "data": {
      "text/plain": [
       "[1, 1, 2, 3, 5, 8, 13, 21, 34, 55, 89, 144]"
      ]
     },
     "execution_count": 2,
     "metadata": {},
     "output_type": "execute_result"
    }
   ],
   "source": [
    "def fibs(num):\n",
    "    result = [1,1]\n",
    "    for i in range(num):\n",
    "        result.append(result[-2]+result[-1])\n",
    "    return result\n",
    "fibs(10)"
   ]
  },
  {
   "cell_type": "code",
   "execution_count": 7,
   "metadata": {},
   "outputs": [
    {
     "name": "stdout",
     "output_type": "stream",
     "text": [
      "how many steps?10\n",
      "total number of different ways: 89\n"
     ]
    }
   ],
   "source": [
    "num = int(input(\"how many steps?\"))\n",
    "print(f'total number of different ways: {fibs(num)[num]}')"
   ]
  },
  {
   "cell_type": "code",
   "execution_count": 8,
   "metadata": {},
   "outputs": [
    {
     "name": "stdout",
     "output_type": "stream",
     "text": [
      "how many steps?10\n",
      "total number of different ways: 89\n"
     ]
    }
   ],
   "source": [
    "def fibs(num):\n",
    "    result = [1,1]\n",
    "    for i in range(num-1):\n",
    "        result.append(result[-2]+result[-1])\n",
    "    return result[-1]\n",
    "\n",
    "num = int(input(\"how many steps?\"))\n",
    "print(f'total number of different ways: {fibs(num)}')"
   ]
  },
  {
   "cell_type": "code",
   "execution_count": 6,
   "metadata": {},
   "outputs": [
    {
     "name": "stdout",
     "output_type": "stream",
     "text": [
      "how many steps?10\n",
      "total number of different ways: 89\n"
     ]
    }
   ],
   "source": [
    "def fib(num):\n",
    "    item_before_last, last = 1, 1\n",
    "    for i in range(num-1):\n",
    "        item_before_last, last = last, item_before_last+last\n",
    "    return last\n",
    "num = int(input(\"how many steps?\"))\n",
    "print(f'total number of different ways: {fib(num)}')\n"
   ]
  },
  {
   "cell_type": "code",
   "execution_count": 14,
   "metadata": {},
   "outputs": [
    {
     "name": "stdout",
     "output_type": "stream",
     "text": [
      "2\n"
     ]
    }
   ],
   "source": [
    "def double(x):\n",
    "    x = x*2\n",
    "a=2\n",
    "double(a)\n",
    "print(a) #a=2并没有变\n",
    "# 我的理解：形参和实参，传递单向，不能直接改变；\n",
    "# 而数组具有指针，通过地址改变，可以直接改变"
   ]
  },
  {
   "cell_type": "code",
   "execution_count": 17,
   "metadata": {},
   "outputs": [
    {
     "name": "stdout",
     "output_type": "stream",
     "text": [
      "['hello']\n"
     ]
    }
   ],
   "source": [
    "def change(a):\n",
    "    a[0] = 'hello'\n",
    "x = ['hi']\n",
    "change(x)\n",
    "print(x) #会变"
   ]
  },
  {
   "cell_type": "code",
   "execution_count": 18,
   "metadata": {},
   "outputs": [
    {
     "name": "stdout",
     "output_type": "stream",
     "text": [
      "4\n"
     ]
    }
   ],
   "source": [
    "def double(x):\n",
    "    x = x*2\n",
    "    return x\n",
    "\n",
    "a=2\n",
    "a = double(a)\n",
    "print(a) "
   ]
  },
  {
   "cell_type": "code",
   "execution_count": 16,
   "metadata": {},
   "outputs": [
    {
     "data": {
      "text/plain": [
       "2"
      ]
     },
     "execution_count": 16,
     "metadata": {},
     "output_type": "execute_result"
    }
   ],
   "source": [
    "a"
   ]
  },
  {
   "cell_type": "code",
   "execution_count": 20,
   "metadata": {},
   "outputs": [
    {
     "name": "stdout",
     "output_type": "stream",
     "text": [
      "1 2 3 4\n"
     ]
    }
   ],
   "source": [
    "print(1,2,3,4)#随便多少个参数都行"
   ]
  },
  {
   "cell_type": "code",
   "execution_count": 26,
   "metadata": {},
   "outputs": [
    {
     "name": "stdout",
     "output_type": "stream",
     "text": [
      "hello\n"
     ]
    },
    {
     "data": {
      "text/plain": [
       "10"
      ]
     },
     "execution_count": 26,
     "metadata": {},
     "output_type": "execute_result"
    }
   ],
   "source": [
    "#序列打包解包 打个* 表示打包成tuple\n",
    "\n",
    "def add_all(name,*params):\n",
    "    print(name)\n",
    "    return sum(params)\n",
    "\n",
    "add_all('hello',1,2,3,4)#name要放在最前面"
   ]
  },
  {
   "cell_type": "code",
   "execution_count": 29,
   "metadata": {},
   "outputs": [
    {
     "name": "stdout",
     "output_type": "stream",
     "text": [
      "{'x': 1, 'y': 2}\n"
     ]
    }
   ],
   "source": [
    "def test(**params):\n",
    "    print(params)\n",
    "#打包成字典\n",
    "t = test(x=1,y=2)"
   ]
  },
  {
   "cell_type": "code",
   "execution_count": 31,
   "metadata": {},
   "outputs": [
    {
     "name": "stdout",
     "output_type": "stream",
     "text": [
      "**************************************************\n",
      "*                  hello, ecnu!                  *\n",
      "**************************************************\n"
     ]
    }
   ],
   "source": [
    "def hello(name, greeting='hello', width=50):\n",
    "#     width=50\n",
    "    print('*' * width)\n",
    "    print(f'{greeting}, {name}!'.center(width-2).center(width, '*'))\n",
    "    print('*' * width)\n",
    "params = {'name': 'ecnu', 'greeting': 'hello', 'width': 50}\n",
    "hello(**params)##解析字典传参"
   ]
  },
  {
   "cell_type": "code",
   "execution_count": 35,
   "metadata": {},
   "outputs": [
    {
     "data": {
      "text/plain": [
       "{'__name__': '__main__',\n",
       " '__doc__': 'Automatically created module for IPython interactive environment',\n",
       " '__package__': None,\n",
       " '__loader__': None,\n",
       " '__spec__': None,\n",
       " '__builtin__': <module 'builtins' (built-in)>,\n",
       " '__builtins__': <module 'builtins' (built-in)>,\n",
       " '_ih': ['',\n",
       "  'num = int(input(\"how many steps?\"))\\nprint(f\\'total number of different ways: {fibs(num)[-1]}\\')',\n",
       "  'def fibs(num):\\n    result = [1,1]\\n    for i in range(num):\\n        result.append(result[-2]+result[-1])\\n    return result\\nfibs(10)',\n",
       "  'num = int(input(\"how many steps?\"))\\nprint(f\\'total number of different ways: {fibs(num)[-1]}\\')',\n",
       "  'def fib(num):\\n    item_before_last, last = 1, 1\\n    for i in range(num-1):\\n        item_before_last, last = last, item_before_last+last\\n    return last\\nnum = int(input(\"how many steps?\"))\\nprint(f\\'total number of different ways: {fib(num)}\\')',\n",
       "  'def fib(num):\\n    item_before_last, last = 1, 1\\n    for i in range(num):\\n        item_before_last, last = last, item_before_last+last\\n    return last\\nnum = int(input(\"how many steps?\"))\\nprint(f\\'total number of different ways: {fib(num)}\\')',\n",
       "  'def fib(num):\\n    item_before_last, last = 1, 1\\n    for i in range(num-1):\\n        item_before_last, last = last, item_before_last+last\\n    return last\\nnum = int(input(\"how many steps?\"))\\nprint(f\\'total number of different ways: {fib(num)}\\')',\n",
       "  'num = int(input(\"how many steps?\"))\\nprint(f\\'total number of different ways: {fibs(num)[num]}\\')',\n",
       "  'def fibs(num):\\n    result = [1,1]\\n    for i in range(num-1):\\n        result.append(result[-2]+result[-1])\\n    return result[-1]\\n\\nnum = int(input(\"how many steps?\"))\\nprint(f\\'total number of different ways: {fibs(num)}\\')',\n",
       "  'def double(x):\\n    x = x*2\\ndouble(2)',\n",
       "  'x',\n",
       "  'def double(x):\\n    x = x*2\\na=2\\ndouble(a)',\n",
       "  'def double(x):\\n    x = x*2\\na=2\\ndouble(a)',\n",
       "  'def double(x):\\n    return x = x*2\\na=2\\ndouble(a)',\n",
       "  'def double(x):\\n    x = x*2\\na=2\\ndouble(a)\\nprint(a)',\n",
       "  'def double(x):\\n    x = x*2\\n    return x\\na=2\\ndouble(a)',\n",
       "  'a',\n",
       "  \"def change(a):\\n    a[0] = 'hello'\\nx = ['hi']\\nchange(x)\\nprint(x)\",\n",
       "  'def double(x):\\n    x = x*2\\n    return x\\n\\na=2\\na = double(a)\\nprint(a)',\n",
       "  'print(1,2,3,4)#随便多少个参数都行',\n",
       "  'print(1,2,3,4)#随便多少个参数都行',\n",
       "  '#序列打包解包\\n\\ndef add_all(*params):\\n    print(params)\\n\\nadd_all(1,2,3,4)',\n",
       "  '#序列打包解包 打个* 表示打包成tuple\\n\\ndef add_all(*params):\\n    return sum(params)\\n\\nadd_all(1,2,3,4)',\n",
       "  '#序列打包解包 打个* 表示打包成tuple\\n\\ndef add_all(name,*params):\\n    print(name)\\n    return sum(params)\\n\\nadd_all(1,2,3,4)',\n",
       "  \"#序列打包解包 打个* 表示打包成tuple\\n\\ndef add_all(name,*params):\\n    print(name)\\n    return sum(params)\\n\\nadd_all('hello'1,2,3,4)#name要放在最前面\",\n",
       "  \"#序列打包解包 打个* 表示打包成tuple\\n\\ndef add_all(name,*params):\\n    print(name)\\n    return sum(params)\\n\\nadd_all('hello',1,2,3,4)#name要放在最前面\",\n",
       "  \"#序列打包解包 打个* 表示打包成tuple\\n\\ndef add_all(name,*params):\\n    print(name)\\n    return sum(params)\\n\\nadd_all('hello',1,2,3,4)#name要放在最前面\",\n",
       "  'def test(**params):\\n    print(params)\\n\\ntest(x=1,y=2)',\n",
       "  'def test(**params):\\n    print(params)\\n\\nt = test(x=1,y=2)\\ntype(t)',\n",
       "  'def test(**params):\\n    print(params)\\n\\nt = test(x=1,y=2)',\n",
       "  \"def hello(name, greeting='hello', width=50):\\n#     width=50\\n    print('*' * width)\\n    print(f'{greeting}, {name}!'.center(width-2).center(width, '*'))\\n    print('*' * width)\\nparams = {'name': 'ecnu', 'greeting': 'hello', 'width': 50}\\nhello(**params)\",\n",
       "  \"def hello(name, greeting='hello', width=50):\\n#     width=50\\n    print('*' * width)\\n    print(f'{greeting}, {name}!'.center(width-2).center(width, '*'))\\n    print('*' * width)\\nparams = {'name': 'ecnu', 'greeting': 'hello', 'width': 50}\\nhello(**params)##解析字典传参\",\n",
       "  'scope = vars()',\n",
       "  'x =1\\nscope = vars()',\n",
       "  \"scope['x']\",\n",
       "  'x =1\\nscope = vars() #作用于？\\nscope'],\n",
       " '_oh': {2: [1, 1, 2, 3, 5, 8, 13, 21, 34, 55, 89, 144],\n",
       "  15: 4,\n",
       "  16: 2,\n",
       "  22: 10,\n",
       "  23: 9,\n",
       "  25: 10,\n",
       "  26: 10,\n",
       "  28: NoneType,\n",
       "  34: 1},\n",
       " '_dh': ['C:\\\\Users\\\\54727'],\n",
       " 'In': ['',\n",
       "  'num = int(input(\"how many steps?\"))\\nprint(f\\'total number of different ways: {fibs(num)[-1]}\\')',\n",
       "  'def fibs(num):\\n    result = [1,1]\\n    for i in range(num):\\n        result.append(result[-2]+result[-1])\\n    return result\\nfibs(10)',\n",
       "  'num = int(input(\"how many steps?\"))\\nprint(f\\'total number of different ways: {fibs(num)[-1]}\\')',\n",
       "  'def fib(num):\\n    item_before_last, last = 1, 1\\n    for i in range(num-1):\\n        item_before_last, last = last, item_before_last+last\\n    return last\\nnum = int(input(\"how many steps?\"))\\nprint(f\\'total number of different ways: {fib(num)}\\')',\n",
       "  'def fib(num):\\n    item_before_last, last = 1, 1\\n    for i in range(num):\\n        item_before_last, last = last, item_before_last+last\\n    return last\\nnum = int(input(\"how many steps?\"))\\nprint(f\\'total number of different ways: {fib(num)}\\')',\n",
       "  'def fib(num):\\n    item_before_last, last = 1, 1\\n    for i in range(num-1):\\n        item_before_last, last = last, item_before_last+last\\n    return last\\nnum = int(input(\"how many steps?\"))\\nprint(f\\'total number of different ways: {fib(num)}\\')',\n",
       "  'num = int(input(\"how many steps?\"))\\nprint(f\\'total number of different ways: {fibs(num)[num]}\\')',\n",
       "  'def fibs(num):\\n    result = [1,1]\\n    for i in range(num-1):\\n        result.append(result[-2]+result[-1])\\n    return result[-1]\\n\\nnum = int(input(\"how many steps?\"))\\nprint(f\\'total number of different ways: {fibs(num)}\\')',\n",
       "  'def double(x):\\n    x = x*2\\ndouble(2)',\n",
       "  'x',\n",
       "  'def double(x):\\n    x = x*2\\na=2\\ndouble(a)',\n",
       "  'def double(x):\\n    x = x*2\\na=2\\ndouble(a)',\n",
       "  'def double(x):\\n    return x = x*2\\na=2\\ndouble(a)',\n",
       "  'def double(x):\\n    x = x*2\\na=2\\ndouble(a)\\nprint(a)',\n",
       "  'def double(x):\\n    x = x*2\\n    return x\\na=2\\ndouble(a)',\n",
       "  'a',\n",
       "  \"def change(a):\\n    a[0] = 'hello'\\nx = ['hi']\\nchange(x)\\nprint(x)\",\n",
       "  'def double(x):\\n    x = x*2\\n    return x\\n\\na=2\\na = double(a)\\nprint(a)',\n",
       "  'print(1,2,3,4)#随便多少个参数都行',\n",
       "  'print(1,2,3,4)#随便多少个参数都行',\n",
       "  '#序列打包解包\\n\\ndef add_all(*params):\\n    print(params)\\n\\nadd_all(1,2,3,4)',\n",
       "  '#序列打包解包 打个* 表示打包成tuple\\n\\ndef add_all(*params):\\n    return sum(params)\\n\\nadd_all(1,2,3,4)',\n",
       "  '#序列打包解包 打个* 表示打包成tuple\\n\\ndef add_all(name,*params):\\n    print(name)\\n    return sum(params)\\n\\nadd_all(1,2,3,4)',\n",
       "  \"#序列打包解包 打个* 表示打包成tuple\\n\\ndef add_all(name,*params):\\n    print(name)\\n    return sum(params)\\n\\nadd_all('hello'1,2,3,4)#name要放在最前面\",\n",
       "  \"#序列打包解包 打个* 表示打包成tuple\\n\\ndef add_all(name,*params):\\n    print(name)\\n    return sum(params)\\n\\nadd_all('hello',1,2,3,4)#name要放在最前面\",\n",
       "  \"#序列打包解包 打个* 表示打包成tuple\\n\\ndef add_all(name,*params):\\n    print(name)\\n    return sum(params)\\n\\nadd_all('hello',1,2,3,4)#name要放在最前面\",\n",
       "  'def test(**params):\\n    print(params)\\n\\ntest(x=1,y=2)',\n",
       "  'def test(**params):\\n    print(params)\\n\\nt = test(x=1,y=2)\\ntype(t)',\n",
       "  'def test(**params):\\n    print(params)\\n\\nt = test(x=1,y=2)',\n",
       "  \"def hello(name, greeting='hello', width=50):\\n#     width=50\\n    print('*' * width)\\n    print(f'{greeting}, {name}!'.center(width-2).center(width, '*'))\\n    print('*' * width)\\nparams = {'name': 'ecnu', 'greeting': 'hello', 'width': 50}\\nhello(**params)\",\n",
       "  \"def hello(name, greeting='hello', width=50):\\n#     width=50\\n    print('*' * width)\\n    print(f'{greeting}, {name}!'.center(width-2).center(width, '*'))\\n    print('*' * width)\\nparams = {'name': 'ecnu', 'greeting': 'hello', 'width': 50}\\nhello(**params)##解析字典传参\",\n",
       "  'scope = vars()',\n",
       "  'x =1\\nscope = vars()',\n",
       "  \"scope['x']\",\n",
       "  'x =1\\nscope = vars() #作用于？\\nscope'],\n",
       " 'Out': {2: [1, 1, 2, 3, 5, 8, 13, 21, 34, 55, 89, 144],\n",
       "  15: 4,\n",
       "  16: 2,\n",
       "  22: 10,\n",
       "  23: 9,\n",
       "  25: 10,\n",
       "  26: 10,\n",
       "  28: NoneType,\n",
       "  34: 1},\n",
       " 'get_ipython': <bound method InteractiveShell.get_ipython of <ipykernel.zmqshell.ZMQInteractiveShell object at 0x000002CE08B407F0>>,\n",
       " 'exit': <IPython.core.autocall.ZMQExitAutocall at 0x2ce08ea1a90>,\n",
       " 'quit': <IPython.core.autocall.ZMQExitAutocall at 0x2ce08ea1a90>,\n",
       " '_': 1,\n",
       " '__': NoneType,\n",
       " '___': 10,\n",
       " '_i': \"scope['x']\",\n",
       " '_ii': 'x =1\\nscope = vars()',\n",
       " '_iii': 'scope = vars()',\n",
       " '_i1': 'num = int(input(\"how many steps?\"))\\nprint(f\\'total number of different ways: {fibs(num)[-1]}\\')',\n",
       " 'num': 10,\n",
       " '_i2': 'def fibs(num):\\n    result = [1,1]\\n    for i in range(num):\\n        result.append(result[-2]+result[-1])\\n    return result\\nfibs(10)',\n",
       " 'fibs': <function __main__.fibs(num)>,\n",
       " '_2': [1, 1, 2, 3, 5, 8, 13, 21, 34, 55, 89, 144],\n",
       " '_i3': 'num = int(input(\"how many steps?\"))\\nprint(f\\'total number of different ways: {fibs(num)[-1]}\\')',\n",
       " '_i4': 'def fib(num):\\n    item_before_last, last = 1, 1\\n    for i in range(num-1):\\n        item_before_last, last = last, item_before_last+last\\n    return last\\nnum = int(input(\"how many steps?\"))\\nprint(f\\'total number of different ways: {fib(num)}\\')',\n",
       " 'fib': <function __main__.fib(num)>,\n",
       " '_i5': 'def fib(num):\\n    item_before_last, last = 1, 1\\n    for i in range(num):\\n        item_before_last, last = last, item_before_last+last\\n    return last\\nnum = int(input(\"how many steps?\"))\\nprint(f\\'total number of different ways: {fib(num)}\\')',\n",
       " '_i6': 'def fib(num):\\n    item_before_last, last = 1, 1\\n    for i in range(num-1):\\n        item_before_last, last = last, item_before_last+last\\n    return last\\nnum = int(input(\"how many steps?\"))\\nprint(f\\'total number of different ways: {fib(num)}\\')',\n",
       " '_i7': 'num = int(input(\"how many steps?\"))\\nprint(f\\'total number of different ways: {fibs(num)[num]}\\')',\n",
       " '_i8': 'def fibs(num):\\n    result = [1,1]\\n    for i in range(num-1):\\n        result.append(result[-2]+result[-1])\\n    return result[-1]\\n\\nnum = int(input(\"how many steps?\"))\\nprint(f\\'total number of different ways: {fibs(num)}\\')',\n",
       " '_i9': 'def double(x):\\n    x = x*2\\ndouble(2)',\n",
       " 'double': <function __main__.double(x)>,\n",
       " '_i10': 'x',\n",
       " '_i11': 'def double(x):\\n    x = x*2\\na=2\\ndouble(a)',\n",
       " 'a': 4,\n",
       " '_i12': 'def double(x):\\n    x = x*2\\na=2\\ndouble(a)',\n",
       " '_i13': 'def double(x):\\n    return x = x*2\\na=2\\ndouble(a)',\n",
       " '_i14': 'def double(x):\\n    x = x*2\\na=2\\ndouble(a)\\nprint(a)',\n",
       " '_i15': 'def double(x):\\n    x = x*2\\n    return x\\na=2\\ndouble(a)',\n",
       " '_15': 4,\n",
       " '_i16': 'a',\n",
       " '_16': 2,\n",
       " '_i17': \"def change(a):\\n    a[0] = 'hello'\\nx = ['hi']\\nchange(x)\\nprint(x)\",\n",
       " 'change': <function __main__.change(a)>,\n",
       " 'x': 1,\n",
       " '_i18': 'def double(x):\\n    x = x*2\\n    return x\\n\\na=2\\na = double(a)\\nprint(a)',\n",
       " '_i19': 'print(1,2,3,4)#随便多少个参数都行',\n",
       " '_i20': 'print(1,2,3,4)#随便多少个参数都行',\n",
       " '_i21': '#序列打包解包\\n\\ndef add_all(*params):\\n    print(params)\\n\\nadd_all(1,2,3,4)',\n",
       " 'add_all': <function __main__.add_all(name, *params)>,\n",
       " '_i22': '#序列打包解包 打个* 表示打包成tuple\\n\\ndef add_all(*params):\\n    return sum(params)\\n\\nadd_all(1,2,3,4)',\n",
       " '_22': 10,\n",
       " '_i23': '#序列打包解包 打个* 表示打包成tuple\\n\\ndef add_all(name,*params):\\n    print(name)\\n    return sum(params)\\n\\nadd_all(1,2,3,4)',\n",
       " '_23': 9,\n",
       " '_i24': \"#序列打包解包 打个* 表示打包成tuple\\n\\ndef add_all(name,*params):\\n    print(name)\\n    return sum(params)\\n\\nadd_all('hello'1,2,3,4)#name要放在最前面\",\n",
       " '_i25': \"#序列打包解包 打个* 表示打包成tuple\\n\\ndef add_all(name,*params):\\n    print(name)\\n    return sum(params)\\n\\nadd_all('hello',1,2,3,4)#name要放在最前面\",\n",
       " '_25': 10,\n",
       " '_i26': \"#序列打包解包 打个* 表示打包成tuple\\n\\ndef add_all(name,*params):\\n    print(name)\\n    return sum(params)\\n\\nadd_all('hello',1,2,3,4)#name要放在最前面\",\n",
       " '_26': 10,\n",
       " '_i27': 'def test(**params):\\n    print(params)\\n\\ntest(x=1,y=2)',\n",
       " 'test': <function __main__.test(**params)>,\n",
       " '_i28': 'def test(**params):\\n    print(params)\\n\\nt = test(x=1,y=2)\\ntype(t)',\n",
       " 't': None,\n",
       " '_28': NoneType,\n",
       " '_i29': 'def test(**params):\\n    print(params)\\n\\nt = test(x=1,y=2)',\n",
       " '_i30': \"def hello(name, greeting='hello', width=50):\\n#     width=50\\n    print('*' * width)\\n    print(f'{greeting}, {name}!'.center(width-2).center(width, '*'))\\n    print('*' * width)\\nparams = {'name': 'ecnu', 'greeting': 'hello', 'width': 50}\\nhello(**params)\",\n",
       " 'hello': <function __main__.hello(name, greeting='hello', width=50)>,\n",
       " 'params': {'name': 'ecnu', 'greeting': 'hello', 'width': 50},\n",
       " '_i31': \"def hello(name, greeting='hello', width=50):\\n#     width=50\\n    print('*' * width)\\n    print(f'{greeting}, {name}!'.center(width-2).center(width, '*'))\\n    print('*' * width)\\nparams = {'name': 'ecnu', 'greeting': 'hello', 'width': 50}\\nhello(**params)##解析字典传参\",\n",
       " '_i32': 'scope = vars()',\n",
       " 'scope': {...},\n",
       " '_i33': 'x =1\\nscope = vars()',\n",
       " '_i34': \"scope['x']\",\n",
       " '_34': 1,\n",
       " '_i35': 'x =1\\nscope = vars() #作用于？\\nscope'}"
      ]
     },
     "execution_count": 35,
     "metadata": {},
     "output_type": "execute_result"
    }
   ],
   "source": [
    "x =1\n",
    "scope = vars() #作用域？\n",
    "#返回对象object的属性和属性值的字典对象，如果没有参数，就打印当前调用位置的属性和属性值 类似 locals()。\n",
    "scope"
   ]
  },
  {
   "cell_type": "code",
   "execution_count": 36,
   "metadata": {},
   "outputs": [
    {
     "data": {
      "text/plain": [
       "1"
      ]
     },
     "execution_count": 36,
     "metadata": {},
     "output_type": "execute_result"
    }
   ],
   "source": [
    "scope['x']"
   ]
  },
  {
   "cell_type": "code",
   "execution_count": 40,
   "metadata": {},
   "outputs": [
    {
     "data": {
      "text/plain": [
       "{}"
      ]
     },
     "execution_count": 40,
     "metadata": {},
     "output_type": "execute_result"
    }
   ],
   "source": [
    "s = vars(hello)\n",
    "s"
   ]
  },
  {
   "cell_type": "code",
   "execution_count": 42,
   "metadata": {},
   "outputs": [
    {
     "name": "stdout",
     "output_type": "stream",
     "text": [
      "3\n",
      "3\n"
     ]
    }
   ],
   "source": [
    "#global关键字\n",
    "def test_global():\n",
    "    global x #申明一个局部变量为全局变量，\n",
    "    x=3\n",
    "    #把在这个函数里的局部变量x变成了全局的进行修改\n",
    "\n",
    "print(x)\n",
    "test_global()\n",
    "print(x)"
   ]
  },
  {
   "cell_type": "code",
   "execution_count": 44,
   "metadata": {},
   "outputs": [
    {
     "name": "stdout",
     "output_type": "stream",
     "text": [
      "10\n"
     ]
    }
   ],
   "source": [
    "#函数生成器 **之前没有写过 \n",
    "#closure 闭包\n",
    "def multiplier(factor):\n",
    "    def multipliedByFactor(number):\n",
    "        return number * factor\n",
    "    return multipliedByFactor\n",
    "double = multiplier(2)\n",
    "print(double(5))"
   ]
  },
  {
   "cell_type": "code",
   "execution_count": 45,
   "metadata": {},
   "outputs": [
    {
     "name": "stdout",
     "output_type": "stream",
     "text": [
      "5\n",
      "4\n",
      "3\n",
      "2\n",
      "1\n"
     ]
    }
   ],
   "source": [
    "#递归\n",
    "def print_nmber(n):\n",
    "    print(n)\n",
    "    if n>1:\n",
    "        print_nmber(n-1)\n",
    "print_nmber(5)"
   ]
  },
  {
   "cell_type": "code",
   "execution_count": 47,
   "metadata": {},
   "outputs": [
    {
     "name": "stdout",
     "output_type": "stream",
     "text": [
      "1\n",
      "2\n",
      "3\n",
      "4\n",
      "5\n"
     ]
    }
   ],
   "source": [
    "#递归\n",
    "def print_nmber(n):\n",
    "    if n>1:\n",
    "        print_nmber(n-1)    \n",
    "    print(n)\n",
    "    \n",
    "print_nmber(5)"
   ]
  },
  {
   "cell_type": "code",
   "execution_count": 49,
   "metadata": {},
   "outputs": [
    {
     "data": {
      "text/plain": [
       "89"
      ]
     },
     "execution_count": 49,
     "metadata": {},
     "output_type": "execute_result"
    }
   ],
   "source": [
    "#时间成本比较高？\n",
    "def Fib(i):\n",
    "    if i ==0 or i==1:\n",
    "        return 1\n",
    "    else:\n",
    "        return Fib(i-1)+Fib(i-2)\n",
    "\n",
    "Fib(10)"
   ]
  },
  {
   "cell_type": "code",
   "execution_count": 50,
   "metadata": {},
   "outputs": [
    {
     "data": {
      "text/plain": [
       "24157817"
      ]
     },
     "execution_count": 50,
     "metadata": {},
     "output_type": "execute_result"
    }
   ],
   "source": [
    "Fib(36)#运行这个 会发现比较慢"
   ]
  },
  {
   "cell_type": "code",
   "execution_count": 51,
   "metadata": {},
   "outputs": [
    {
     "data": {
      "text/plain": [
       "24157817"
      ]
     },
     "execution_count": 51,
     "metadata": {},
     "output_type": "execute_result"
    }
   ],
   "source": [
    "fib(36)"
   ]
  },
  {
   "cell_type": "code",
   "execution_count": 54,
   "metadata": {},
   "outputs": [
    {
     "data": {
      "text/plain": [
       "6835702259575806647045396549170580107055408029365524565407553367798082454408054014954534318953113802726603726769523447478238192192714526677939943338306101405105414819705664090901813637296453767095528104868264704914433529355579148731044685634135487735897954629842516947101494253575869699893400976539545740214819819151952085089538422954565146720383752121972115725761141759114990448978941370030912401573418221496592822626"
      ]
     },
     "execution_count": 54,
     "metadata": {},
     "output_type": "execute_result"
    }
   ],
   "source": [
    "#缓存，用空间换时间，把递归结果存下来\n",
    "cache=dict()\n",
    "def fib_cache(i):\n",
    "    global cache\n",
    "    if i ==0 or i==1:\n",
    "        return 1\n",
    "    else:\n",
    "        result = cache.get(i)\n",
    "        if result is None:\n",
    "            result = fib_cache(i-1)+fib_cache(i-2)\n",
    "            cache[i] =result\n",
    "        return result\n",
    "fib_cache(2000)"
   ]
  },
  {
   "cell_type": "code",
   "execution_count": 57,
   "metadata": {},
   "outputs": [
    {
     "name": "stdout",
     "output_type": "stream",
     "text": [
      "70330367711422815821835254877183549770181269836358732742604905087154537118196933579742249494562611733487750449241765991088186363265450223647106012053374121273867339111198139373125598767690091902245245323403501\n"
     ]
    }
   ],
   "source": [
    "from functools import lru_cache\n",
    "\n",
    "@lru_cache(maxsize=None)#可以起到缓存作用？\n",
    "def Fib(i):\n",
    "    if i in (0,1):\n",
    "        return 1\n",
    "    else:\n",
    "        return Fib(i-1)+Fib(i-2)\n",
    "print(Fib(1000))"
   ]
  },
  {
   "cell_type": "code",
   "execution_count": 59,
   "metadata": {},
   "outputs": [
    {
     "data": {
      "text/plain": [
       "['foo', 'x41']"
      ]
     },
     "execution_count": 59,
     "metadata": {},
     "output_type": "execute_result"
    }
   ],
   "source": [
    "seq = ['foo', 'x41', '???', '***']\n",
    "[x for x in seq if x.isalnum()]#检测字符串是否由字母和数字组成。"
   ]
  },
  {
   "cell_type": "code",
   "execution_count": 61,
   "metadata": {},
   "outputs": [
    {
     "data": {
      "text/plain": [
       "['foo', 'x41']"
      ]
     },
     "execution_count": 61,
     "metadata": {},
     "output_type": "execute_result"
    }
   ],
   "source": [
    "def func(x):\n",
    "    return x.isalnum()\n",
    "\n",
    "list(filter(func, seq))\n",
    "#函数用于过滤序列，过滤掉不符合条件的元素，返回由符合条件元素组成的新列表。\n",
    "#接收两个参数，第一个为函数，第二个为序列，\n",
    "#序列的每个元素作为参数传递给函数进行判断，然后返回 True 或 False，\n",
    "#最后将返回 True 的元素放到新列表中。"
   ]
  },
  {
   "cell_type": "code",
   "execution_count": 62,
   "metadata": {},
   "outputs": [
    {
     "data": {
      "text/plain": [
       "['foo', 'x41']"
      ]
     },
     "execution_count": 62,
     "metadata": {},
     "output_type": "execute_result"
    }
   ],
   "source": [
    "list(filter(lambda x: x.isalnum(), seq))\n",
    "#匿名函数 lambda, 只能写一个表达式，不能写语句块\n",
    "#lambda [arg1 [,arg2,.....argn]]:expression"
   ]
  },
  {
   "cell_type": "code",
   "execution_count": 64,
   "metadata": {},
   "outputs": [
    {
     "name": "stdout",
     "output_type": "stream",
     "text": [
      "#                                                          *\r"
     ]
    }
   ],
   "source": [
    "import math\n",
    "length = 60\n",
    "\n",
    "#等待函数，等待一段时间 通过算术\n",
    "def wait():\n",
    "    y = 0\n",
    "    while y < 500000:\n",
    "        z = math.sin(x) * math.exp(x)\n",
    "        y += 1\n",
    "\n",
    "        \n",
    "bar = list()#杆子\n",
    "for i in range(0, length):\n",
    "    bar.append(' ')\n",
    "x = 0\n",
    "y = length-1\n",
    "for i in range(0, length):\n",
    "    bar[x] = '*'#有蚂蚁用符号表示，没有用空格表示\n",
    "    bar[y] = '#'\n",
    "    for ch in bar:\n",
    "        print(ch, sep= '', end='')\n",
    "    \n",
    "    wait()\n",
    "    bar[x] = ' '\n",
    "    bar[y] = ' '\n",
    "    x+=1\n",
    "    y-=1\n",
    "    print('\\r', end='')#\\r回到当前行第一格\n",
    "        "
   ]
  },
  {
   "cell_type": "code",
   "execution_count": 68,
   "metadata": {},
   "outputs": [
    {
     "name": "stdout",
     "output_type": "stream",
     "text": [
      "                                                            \r"
     ]
    }
   ],
   "source": [
    "'''\n",
    "init_bar()\n",
    "set_ants_positions()\n",
    "while not is_bar_empty():\n",
    "    update_bar()\n",
    "    show_bar()\n",
    "    wait()\n",
    "    update_ants_position()\n",
    "'''\n",
    "from time import sleep\n",
    "\n",
    "def init_bar(length=60):\n",
    "    bar=list(' ' *length)\n",
    "    return bar\n",
    "\n",
    "def clear_bar(bar):\n",
    "    for i in range(len(bar)):\n",
    "        bar[i] = ' '\n",
    "        \n",
    "        \n",
    "def init_ants(bar_length=60):\n",
    "    ants = list()\n",
    "    ants.append({'position': 0, 'direction':1})\n",
    "    ants.append({'position':bar_length-1, 'direction':-1})\n",
    "    return ants\n",
    "\n",
    "def update_bar(bar, ants):\n",
    "    clear_bar(bar)\n",
    "    for ant in ants:\n",
    "        if 0 <= ant['position'] < len(bar):\n",
    "            bar[ant['position']] = '*'\n",
    "            \n",
    "def is_bar_empty(bar):\n",
    "    for item in bar:\n",
    "        if not item == ' ':\n",
    "            return False\n",
    "    return True\n",
    "\n",
    "def show_bar(bar):\n",
    "    for ch in bar:\n",
    "        print(ch, sep='', end='')\n",
    "    print('\\r', sep='', end='')\n",
    "\n",
    "def update_ants(ants):\n",
    "    for ant in ants:\n",
    "        ant['position'] += ant['direction']\n",
    "        \n",
    "        \n",
    "bar = init_bar()\n",
    "ants = init_ants()\n",
    "\n",
    "update_bar(bar, ants)\n",
    "show_bar(bar)\n",
    "\n",
    "while not is_bar_empty(bar): \n",
    "    update_bar(bar, ants)\n",
    "    show_bar(bar)\n",
    "    sleep(0.2)\n",
    "    update_ants(ants)\n",
    "    \n",
    "\n",
    "    "
   ]
  },
  {
   "cell_type": "code",
   "execution_count": 3,
   "metadata": {},
   "outputs": [
    {
     "data": {
      "text/plain": [
       "[1, 2, 'hello']"
      ]
     },
     "execution_count": 3,
     "metadata": {},
     "output_type": "execute_result"
    }
   ],
   "source": [
    "class Filter:\n",
    "    def __init__(self):\n",
    "        self.blocked = []\n",
    "    \n",
    "    def add_blocked_items(self, *items):\n",
    "        self.blocked.extend(items)\n",
    "    \n",
    "    def filter(self, sequence):\n",
    "        return [x for x in sequence if x not in self.blocked]\n",
    "\n",
    "spam_filter =Filter()\n",
    "spam_filter.add_blocked_items('SPAM', 3)\n",
    "spam_filter.filter(['SPAM', 'SPAM', 1, 2, 3, 'hello', 'SPAM'])"
   ]
  },
  {
   "cell_type": "code",
   "execution_count": 5,
   "metadata": {},
   "outputs": [
    {
     "name": "stdout",
     "output_type": "stream",
     "text": [
      "The answer is: 7\n"
     ]
    }
   ],
   "source": [
    "class Calculator:\n",
    "    def calculate(self, expression):\n",
    "        self.value = eval(expression)\n",
    "        \n",
    "class Talker:\n",
    "    def talk(self):\n",
    "        print(f'The answer is: {self.value}') #有个坏处，必须要有个value 有隐形假设\n",
    "\n",
    "class TalkingCalculator(Calculator, Talker): #继承了上面两个类\n",
    "    pass #只是单纯继承，没有新东西，直接pass\n",
    "\n",
    "tc = TalkingCalculator()\n",
    "tc.calculate('1+2*3')\n",
    "tc.talk()\n",
    "\n"
   ]
  },
  {
   "cell_type": "code",
   "execution_count": null,
   "metadata": {},
   "outputs": [],
   "source": []
  },
  {
   "cell_type": "code",
   "execution_count": 9,
   "metadata": {},
   "outputs": [
    {
     "ename": "TypeError",
     "evalue": "talk() missing 1 required positional argument: 'value'",
     "output_type": "error",
     "traceback": [
      "\u001b[1;31m---------------------------------------------------------------------------\u001b[0m",
      "\u001b[1;31mTypeError\u001b[0m                                 Traceback (most recent call last)",
      "\u001b[1;32m<ipython-input-9-b9fa32015aaa>\u001b[0m in \u001b[0;36m<module>\u001b[1;34m\u001b[0m\n\u001b[0;32m     17\u001b[0m \u001b[0mtc\u001b[0m \u001b[1;33m=\u001b[0m \u001b[0mTalkingCalculator\u001b[0m\u001b[1;33m(\u001b[0m\u001b[1;33m)\u001b[0m\u001b[1;33m\u001b[0m\u001b[1;33m\u001b[0m\u001b[0m\n\u001b[0;32m     18\u001b[0m \u001b[0mtc\u001b[0m\u001b[1;33m.\u001b[0m\u001b[0mcalculate\u001b[0m\u001b[1;33m(\u001b[0m\u001b[1;34m'1+2*3'\u001b[0m\u001b[1;33m)\u001b[0m\u001b[1;33m\u001b[0m\u001b[1;33m\u001b[0m\u001b[0m\n\u001b[1;32m---> 19\u001b[1;33m \u001b[0mtc\u001b[0m\u001b[1;33m.\u001b[0m\u001b[0mtalk\u001b[0m\u001b[1;33m(\u001b[0m\u001b[1;33m)\u001b[0m\u001b[1;33m\u001b[0m\u001b[1;33m\u001b[0m\u001b[0m\n\u001b[0m\u001b[0;32m     20\u001b[0m \u001b[1;33m\u001b[0m\u001b[0m\n",
      "\u001b[1;31mTypeError\u001b[0m: talk() missing 1 required positional argument: 'value'"
     ]
    }
   ],
   "source": [
    "class Calculator:\n",
    "    def calculate(self, expression):\n",
    "        self.value = eval(expression)\n",
    "        \n",
    "class Talker:\n",
    "    def talk(self, value): #明确需要有个value \n",
    "        print(f'The answer is: {self.value}')\n",
    "\n",
    "class TalkingCalculator(Calculator, Talker): #继承了上面两个类\n",
    "    def __init__(self):\n",
    "        self.__talker = Talker()\n",
    "        self.value = None\n",
    "        \n",
    "        def talk(self):\n",
    "            self.__talker.talk(self.__value)##?\n",
    "\n",
    "tc = TalkingCalculator()\n",
    "tc.calculate('1+2*3')\n",
    "tc.talk()\n",
    "\n"
   ]
  },
  {
   "cell_type": "code",
   "execution_count": 14,
   "metadata": {},
   "outputs": [
    {
     "name": "stdout",
     "output_type": "stream",
     "text": [
      "10 Screwing...\n"
     ]
    }
   ],
   "source": [
    "class Knife():\n",
    "    def cut(self):\n",
    "        print('Cutting...')\n",
    "\n",
    "class ScrewDriver():\n",
    "    def __init__(self, size):\n",
    "        self.size = size\n",
    "    def work(self):\n",
    "        print(f'{self.size} Screwing...')\n",
    "\n",
    "class SwissKnife(Knife,ScrewDriver):\n",
    "    def __init__(self):\n",
    "        self.tools={}\n",
    "    def add_tool(self, name, tool):\n",
    "        self.tools[name] = tool\n",
    "    def use_tool(self, name):\n",
    "        self.tools[name].work()\n",
    "sk = SwissKnife()\n",
    "sk.add_tool('Big screw',ScrewDriver(10))\n",
    "sk.add_tool('Small screw',ScrewDriver(5))\n",
    "sk.add_tool('Knife',Knife())\n",
    "\n",
    "sk.use_tool('Big screw')\n"
   ]
  },
  {
   "cell_type": "code",
   "execution_count": 22,
   "metadata": {},
   "outputs": [
    {
     "name": "stdout",
     "output_type": "stream",
     "text": [
      "Zhang...\n"
     ]
    }
   ],
   "source": [
    "from abc import ABC, abstractmethod #抽象基类？\n",
    "\n",
    "class Tool(ABC):#把tool变成抽象基类\n",
    "    @abstractmethod #把work方法变成抽象方法，实例一定要实现work函数，否则无法创建\n",
    "    def work(self):\n",
    "        pass\n",
    "\n",
    "class Knife():\n",
    "    def cut(self):\n",
    "        print('Cutting...')\n",
    "\n",
    "class ScrewDriver(Tool):\n",
    "    def __init__(self, size):\n",
    "        self.size = size\n",
    "    def work(self):\n",
    "        print(f'{self.size} Screwing...')\n",
    "\n",
    "class SwissKnife(Knife,ScrewDriver):\n",
    "    def __init__(self):\n",
    "        self.tools={}\n",
    "    def add_tool(self, name, tool):\n",
    "        self.tools[name] = tool\n",
    "    def use_tool(self, name):\n",
    "        self.tools[name].work()\n",
    "        \n",
    "class Worker():\n",
    "    def work(self):\n",
    "        print('Zhang...')\n",
    "sk = SwissKnife()\n",
    "sk.add_tool('Big screw',ScrewDriver(10))\n",
    "sk.add_tool('Small screw',ScrewDriver(5))\n",
    "sk.add_tool('Knife',Knife())\n",
    "sk.add_tool('Zhang', Worker())\n",
    "\n",
    "sk.use_tool('Zhang')"
   ]
  },
  {
   "cell_type": "code",
   "execution_count": null,
   "metadata": {},
   "outputs": [],
   "source": [
    "from abc import ABC, abstractmethod #抽象基类？\n",
    "\n",
    "class Tool(ABC):#把tool变成抽象基类\n",
    "    @abstractmethod #把work方法变成抽象方法，实例一定要实现work函数，否则无法创建\n",
    "    def work(self):\n",
    "        pass\n",
    "\n",
    "class Knife():\n",
    "    def cut(self):\n",
    "        print('Cutting...')\n",
    "\n",
    "class ScrewDriver(Tool):\n",
    "    def __init__(self, size):\n",
    "        self.size = size\n",
    "    def work(self):\n",
    "        print(f'{self.size} Screwing...')\n",
    "\n",
    "class SwissKnife(Knife,ScrewDriver):\n",
    "    def __init__(self):\n",
    "        self.tools={}\n",
    "    def add_tool(self, name, tool):\n",
    "        if instance\n",
    "        self.tools[name] = tool\n",
    "    def use_tool(self, name):\n",
    "        self.tools[name].work()\n",
    "        \n",
    "class Worker():\n",
    "    def work(self):\n",
    "        print('Zhang...')\n",
    "sk = SwissKnife()\n",
    "sk.add_tool('Big screw',ScrewDriver(10))\n",
    "sk.add_tool('Small screw',ScrewDriver(5))\n",
    "sk.add_tool('Knife',Knife())\n",
    "sk.add_tool('Zhang', Worker())\n",
    "\n",
    "sk.use_tool('Zhang')"
   ]
  },
  {
   "cell_type": "code",
   "execution_count": 3,
   "metadata": {},
   "outputs": [
    {
     "data": {
      "text/plain": [
       "12.56636"
      ]
     },
     "execution_count": 3,
     "metadata": {},
     "output_type": "execute_result"
    }
   ],
   "source": [
    "PI=3.14159\n",
    "r = 2\n",
    "area = r**2*PI\n",
    "area"
   ]
  },
  {
   "cell_type": "code",
   "execution_count": null,
   "metadata": {},
   "outputs": [],
   "source": []
  },
  {
   "cell_type": "code",
   "execution_count": null,
   "metadata": {},
   "outputs": [],
   "source": []
  }
 ],
 "metadata": {
  "kernelspec": {
   "display_name": "Python 3",
   "language": "python",
   "name": "python3"
  },
  "language_info": {
   "codemirror_mode": {
    "name": "ipython",
    "version": 3
   },
   "file_extension": ".py",
   "mimetype": "text/x-python",
   "name": "python",
   "nbconvert_exporter": "python",
   "pygments_lexer": "ipython3",
   "version": "3.7.3"
  }
 },
 "nbformat": 4,
 "nbformat_minor": 2
}
